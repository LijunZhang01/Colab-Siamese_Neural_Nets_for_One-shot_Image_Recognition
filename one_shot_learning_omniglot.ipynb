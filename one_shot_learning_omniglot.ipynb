{
  "nbformat": 4,
  "nbformat_minor": 0,
  "metadata": {
    "colab": {
      "name": "one-shot learning omniglot",
      "provenance": [],
      "collapsed_sections": [
        "g8Vppu7kKRwr",
        "bgDIaIk03YLH",
        "6mahba0d3DYR",
        "EnRzbbbD3N6F"
      ],
      "toc_visible": true,
      "machine_shape": "hm"
    },
    "kernelspec": {
      "name": "python3",
      "display_name": "Python 3"
    },
    "accelerator": "GPU"
  },
  "cells": [
    {
      "cell_type": "code",
      "metadata": {
        "id": "xWKGvKjDHpmP",
        "colab": {
          "base_uri": "https://localhost:8080/"
        },
        "outputId": "1740a24d-8d5a-4bc3-c34b-bcaf348d965b"
      },
      "source": [
        "!nvidia-smi"
      ],
      "execution_count": null,
      "outputs": [
        {
          "output_type": "stream",
          "text": [
            "Fri Feb 12 19:01:48 2021       \n",
            "+-----------------------------------------------------------------------------+\n",
            "| NVIDIA-SMI 460.39       Driver Version: 460.32.03    CUDA Version: 11.2     |\n",
            "|-------------------------------+----------------------+----------------------+\n",
            "| GPU  Name        Persistence-M| Bus-Id        Disp.A | Volatile Uncorr. ECC |\n",
            "| Fan  Temp  Perf  Pwr:Usage/Cap|         Memory-Usage | GPU-Util  Compute M. |\n",
            "|                               |                      |               MIG M. |\n",
            "|===============================+======================+======================|\n",
            "|   0  Tesla V100-SXM2...  Off  | 00000000:00:04.0 Off |                    0 |\n",
            "| N/A   36C    P0    24W / 300W |      0MiB / 16160MiB |      0%      Default |\n",
            "|                               |                      |                  N/A |\n",
            "+-------------------------------+----------------------+----------------------+\n",
            "                                                                               \n",
            "+-----------------------------------------------------------------------------+\n",
            "| Processes:                                                                  |\n",
            "|  GPU   GI   CI        PID   Type   Process name                  GPU Memory |\n",
            "|        ID   ID                                                   Usage      |\n",
            "|=============================================================================|\n",
            "|  No running processes found                                                 |\n",
            "+-----------------------------------------------------------------------------+\n"
          ],
          "name": "stdout"
        }
      ]
    },
    {
      "cell_type": "code",
      "metadata": {
        "colab": {
          "base_uri": "https://localhost:8080/"
        },
        "id": "p2mKLb6VSRNG",
        "outputId": "0201dfbe-2ffe-47aa-e72f-8a07c50766b4"
      },
      "source": [
        "from google.colab import drive\n",
        "drive.mount('/content/drive')"
      ],
      "execution_count": null,
      "outputs": [
        {
          "output_type": "stream",
          "text": [
            "Mounted at /content/drive\n"
          ],
          "name": "stdout"
        }
      ]
    },
    {
      "cell_type": "code",
      "metadata": {
        "id": "16o1iKYCMNwA"
      },
      "source": [
        "import torch\r\n",
        "import torch.nn as nn\r\n",
        "import torch.nn.functional as F\r\n",
        "from torch.utils.data import Dataset, DataLoader, random_split\r\n",
        "from torchvision import transforms, utils, datasets\r\n",
        "import torch.optim as optim\r\n",
        "\r\n",
        "import numpy as np\r\n",
        "from PIL import Image\r\n",
        "import os\r\n",
        "from tqdm import tqdm\r\n",
        "import random\r\n",
        "import matplotlib.pyplot as plt"
      ],
      "execution_count": null,
      "outputs": []
    },
    {
      "cell_type": "code",
      "metadata": {
        "colab": {
          "base_uri": "https://localhost:8080/"
        },
        "id": "_rWPYW31YWNk",
        "outputId": "91a04d78-d041-4aeb-c2ce-02593d7da50c"
      },
      "source": [
        "print(torch.__version__)"
      ],
      "execution_count": null,
      "outputs": [
        {
          "output_type": "stream",
          "text": [
            "1.7.0+cu101\n"
          ],
          "name": "stdout"
        }
      ]
    },
    {
      "cell_type": "markdown",
      "metadata": {
        "id": "g8Vppu7kKRwr"
      },
      "source": [
        "# **Model**"
      ]
    },
    {
      "cell_type": "code",
      "metadata": {
        "id": "XATrJAOhNJas"
      },
      "source": [
        "# Model\r\n",
        "class Siamese_Net(nn.Module):\r\n",
        "  def __init__(self):\r\n",
        "    super(Siamese_Net,self).__init__()\r\n",
        "\r\n",
        "    self.conv1=nn.Conv2d(1,64,10)\r\n",
        "    self.conv2=nn.Conv2d(64,128,7)\r\n",
        "    self.conv3=nn.Conv2d(128,128,4)\r\n",
        "    self.conv4=nn.Conv2d(128,256,4)\r\n",
        "\r\n",
        "    self.Linear1=nn.Linear(9216,4096)\r\n",
        "    self.flatten=nn.Flatten()\r\n",
        "    self.Linear2=nn.Linear(4096,1)\r\n",
        "\r\n",
        "    self.relu=nn.ReLU()\r\n",
        "    self.maxP=nn.MaxPool2d(2)\r\n",
        "    self.sigm=nn.Sigmoid()\r\n",
        "\r\n",
        "    # self.initialize_weights()\r\n",
        "\r\n",
        "  def twin(self,x):\r\n",
        "\r\n",
        "    out=self.conv1(x)\r\n",
        "    out=self.relu(out)\r\n",
        "    out=self.maxP(out)\r\n",
        "\r\n",
        "    out=self.conv2(out)\r\n",
        "    out=self.relu(out)\r\n",
        "    out=self.maxP(out)\r\n",
        "\r\n",
        "    out=self.conv3(out)\r\n",
        "    out=self.relu(out)\r\n",
        "    out=self.maxP(out)\r\n",
        "\r\n",
        "    out=self.conv4(out)\r\n",
        "    out=self.relu(out)\r\n",
        "\r\n",
        "    # test=out.view(out.size()[0], -1)\r\n",
        "    out=self.flatten(out)\r\n",
        "    # print(test==out) ##result -> true\r\n",
        "\r\n",
        "    out=self.Linear1(out)\r\n",
        "    out=self.sigm(out)\r\n",
        "\r\n",
        "    return out\r\n",
        "\r\n",
        "  def forward(self,x1,x2):\r\n",
        "\r\n",
        "    x1_out=self.twin(x1)\r\n",
        "    x2_out=self.twin(x2)\r\n",
        "\r\n",
        "    # score= linear(distance between vectors)\r\n",
        "    score=self.Linear2(torch.abs(x1_out-x2_out))\r\n",
        "\r\n",
        "    # print(score)\r\n",
        "    \r\n",
        "    return score\r\n",
        "\r\n",
        "  def initialize_weights(self):\r\n",
        "    for m in self.modules():\r\n",
        "      if isinstance(m,nn.Conv2d):\r\n",
        "        nn.init.normal_(m.weight,0,1e-2)\r\n",
        "        nn.init.normal_(m.bias, 0.5, 1e-2)\r\n",
        "      if isinstance(m,nn.Linear):\r\n",
        "        nn.init.normal_(m.weight,0,2e-2)\r\n",
        "        nn.init.normal_(m.bias, 0.5, 1e-2)\r\n",
        "\r\n"
      ],
      "execution_count": null,
      "outputs": []
    },
    {
      "cell_type": "code",
      "metadata": {
        "colab": {
          "base_uri": "https://localhost:8080/"
        },
        "id": "BfSlk9mUYTnz",
        "outputId": "d5f5bef5-83e3-4d1b-da69-5d325ef0edaa"
      },
      "source": [
        "#testing\r\n",
        "net=Siamese_Net()\r\n",
        "# print(net)\r\n",
        "dummyx1=torch.randn(64,1,105,105)\r\n",
        "dummyx2=torch.randn(64,1,105,105)\r\n",
        "o=net(dummyx1,dummyx2)\r\n",
        "print(o.shape)"
      ],
      "execution_count": null,
      "outputs": [
        {
          "output_type": "stream",
          "text": [
            "torch.Size([64, 1])\n"
          ],
          "name": "stdout"
        }
      ]
    },
    {
      "cell_type": "markdown",
      "metadata": {
        "id": "QpQL3NTN1sBV"
      },
      "source": [
        "# **Omniglot Dataset**"
      ]
    },
    {
      "cell_type": "code",
      "metadata": {
        "colab": {
          "base_uri": "https://localhost:8080/"
        },
        "id": "jdcAQouHqIT3",
        "outputId": "8cdffd94-8249-4da2-e96a-fec3b662b4f7"
      },
      "source": [
        "# download the dataset\r\n",
        "omni_train=datasets.Omniglot(root='/content', \r\n",
        "                       background= True,  \r\n",
        "                       download = True\r\n",
        "                       )\r\n",
        "\r\n",
        "omni_test=datasets.Omniglot(root='/content', \r\n",
        "                       background= False,  \r\n",
        "                       download = True\r\n",
        "                       )"
      ],
      "execution_count": null,
      "outputs": [
        {
          "output_type": "stream",
          "text": [
            "Files already downloaded and verified\n",
            "Files already downloaded and verified\n"
          ],
          "name": "stdout"
        }
      ]
    },
    {
      "cell_type": "code",
      "metadata": {
        "id": "QXMNU4dOu6uu"
      },
      "source": [
        "# Omniglot dataset- didnt rename cause would have had to rename it everywhere\r\n",
        "class Face_Dataset(Dataset):\r\n",
        "  def __init__(self,root_dir, job='train',ways=10,transform=None):\r\n",
        "    super(Face_Dataset,self).__init__()\r\n",
        "    self.root_dir=root_dir\r\n",
        "    self.job=job\r\n",
        "    self.all_classes=os.listdir(root_dir)\r\n",
        "    self.num_classes=len(self.all_classes)\r\n",
        "    self.face_list, self.number_of_faces=self.get_char_list()\r\n",
        "    self.ways=ways\r\n",
        "    self.transform=transform\r\n",
        "    print(self.all_classes)\r\n",
        "\r\n",
        "  def __len__(self):\r\n",
        "    return self.number_of_faces\r\n",
        "\r\n",
        "  def __getitem__(self,idx):\r\n",
        "    if self.job=='train':\r\n",
        "      is_Same=1\r\n",
        "      # Same person if even\r\n",
        "      if idx%2==0:\r\n",
        "        path_img_1,path_img_2,_=self.get_same()\r\n",
        "      # different people \r\n",
        "      else:\r\n",
        "        is_Same=0\r\n",
        "        path_img_1,path_img_2=self.get_different()\r\n",
        "\r\n",
        "      img1=Image.open(path_img_1).convert('L')\r\n",
        "      img2=Image.open(path_img_2).convert('L')\r\n",
        "      \r\n",
        "      if self.transform:\r\n",
        "        img1=self.transform(img1)\r\n",
        "        img2=self.transform(img2)\r\n",
        "\r\n",
        "      return img1,img2,torch.tensor([is_Same], dtype=torch.float32)\r\n",
        "\r\n",
        "    else:\r\n",
        "      img_list=[]\r\n",
        "      ways=self.ways\r\n",
        "\r\n",
        "      # grab two images from the same class\r\n",
        "      path_img_1,path_img_2,id_to_avoid=self.get_same()\r\n",
        "      img_list+=[path_img_1,path_img_2]\r\n",
        "\r\n",
        "      ways=(ways-2)//2\r\n",
        "\r\n",
        "      # and two from different classes\r\n",
        "      for i in range(ways):\r\n",
        "        img_list+=self.get_different(id_to_avoid)\r\n",
        "\r\n",
        "      for i in range(len(img_list)):\r\n",
        "        img=Image.open(img_list[i]).convert('L')\r\n",
        "        if self.transform:\r\n",
        "          img=self.transform(img)\r\n",
        "        img_list[i]=img\r\n",
        "\r\n",
        "      img_list_tensor=torch.stack(img_list)\r\n",
        "      return img_list_tensor\r\n",
        "\r\n",
        "  def get_char_list(self) -> (dict, int):\r\n",
        "      a_list,n_letters={},0\r\n",
        "      for idx, alpha in enumerate(self.all_classes):\r\n",
        "        a_list[idx]=[]\r\n",
        "        for char in os.listdir(os.path.join(self.root_dir,alpha)):\r\n",
        "          l_list=[]\r\n",
        "          for letter in os.listdir(os.path.join(self.root_dir,alpha,char)):\r\n",
        "            l_list.append(os.path.join(self.root_dir,alpha,char,letter))\r\n",
        "            n_letters+=1\r\n",
        "          a_list[idx].append(l_list)\r\n",
        "      return a_list,n_letters\r\n",
        "\r\n",
        "  def get_same(self) -> (str, str, int):\r\n",
        "    alpha_id=random.randint(0,self.num_classes-1)\r\n",
        "    char_id=random.randint(0,len(self.face_list[alpha_id])-1)\r\n",
        "    path_img_1=random.choice(self.face_list[alpha_id][char_id])\r\n",
        "    path_img_2=random.choice(self.face_list[alpha_id][char_id])\r\n",
        "    return path_img_1,path_img_2,char_id\r\n",
        "\r\n",
        "  def get_different(self, avoid=None)-> (str, str):\r\n",
        "\r\n",
        "    alpha_id_1=random.randint(0,self.num_classes-1)\r\n",
        "    char_id_1=random.randint(0,len(self.face_list[alpha_id_1])-1)\r\n",
        "    while char_id_1==avoid:\r\n",
        "      char_id_1=random.randint(0,len(self.face_list[alpha_id_1])-1)\r\n",
        "\r\n",
        "    alpha_id_2=random.randint(0,self.num_classes-1)\r\n",
        "    char_id_2=random.randint(0,len(self.face_list[alpha_id_2])-1)\r\n",
        "    while char_id_2==char_id_1 or char_id_2==avoid:\r\n",
        "      char_id_2=random.randint(0,len(self.face_list[alpha_id_2])-1)\r\n",
        "\r\n",
        "    path_img_1=random.choice(self.face_list[alpha_id_1][char_id_1])\r\n",
        "    path_img_2=random.choice(self.face_list[alpha_id_2][char_id_2])\r\n",
        "    return path_img_1,path_img_2\r\n",
        "      "
      ],
      "execution_count": null,
      "outputs": []
    },
    {
      "cell_type": "code",
      "metadata": {
        "colab": {
          "base_uri": "https://localhost:8080/"
        },
        "id": "N5G3LGAYK_aX",
        "outputId": "7d07643b-ccb2-45c8-a4cb-f74572b9f1f0"
      },
      "source": [
        "a=torch.randn((64,3,122,450),dtype=torch.float32)\r\n",
        "b=torch.randn((64,3,122,450),dtype=torch.float32)\r\n",
        "c=torch.randn((64,3,122,450),dtype=torch.float32)\r\n",
        "l=[a,b,c]\r\n",
        "lt=torch.stack(l)\r\n",
        "print(lt.shape)\r\n",
        "print(lt[0,:].shape)"
      ],
      "execution_count": null,
      "outputs": [
        {
          "output_type": "stream",
          "text": [
            "torch.Size([3, 64, 3, 122, 450])\n",
            "torch.Size([64, 3, 122, 450])\n"
          ],
          "name": "stdout"
        }
      ]
    },
    {
      "cell_type": "code",
      "metadata": {
        "id": "59Qc59pc2FDS"
      },
      "source": [
        "# omniglot root\r\n",
        "train_root='/content/omniglot-py/images_background'\r\n",
        "val_root='/content/omniglot-py/images_evaluation'\r\n",
        "batch_size=16\r\n",
        "ways=10"
      ],
      "execution_count": null,
      "outputs": []
    },
    {
      "cell_type": "code",
      "metadata": {
        "colab": {
          "base_uri": "https://localhost:8080/"
        },
        "id": "S7csByFqFzmp",
        "outputId": "09e3502b-50af-4176-ac76-f811b2288aad"
      },
      "source": [
        "# Omniglot Calculating the mean and std of the data\r\n",
        "\r\n",
        "def find_mean_std(to_be_norm_dataset, batch_s=1):\r\n",
        "  to_norm_loader=DataLoader(dataset=to_be_norm_dataset, batch_size=batch_s)\r\n",
        "  print('Total number of samples: ', len(to_be_norm_dataset))\r\n",
        "\r\n",
        "  # #run for 1 batch \r\n",
        "  # data_iter=iter(to_norm_loader)\r\n",
        "  # img,_,__=data_iter.next()\r\n",
        "  # print(img.shape)\r\n",
        "  \r\n",
        "  channels_sum, channels_squared_sum, num_batches=0, 0, 0\r\n",
        "  for img,_,__ in to_norm_loader:\r\n",
        "    # print(img.shape)#[batch,C,H,W]\r\n",
        "    channels_sum+=torch.mean(img,dim=[0,2,3])\r\n",
        "    channels_squared_sum+=torch.mean(img**2,dim=[0,2,3])\r\n",
        "    num_batches+=1\r\n",
        "  \r\n",
        "  mean=channels_sum/num_batches\r\n",
        "  std=(channels_squared_sum/num_batches- mean**2)**0.5\r\n",
        "  return mean, std\r\n",
        "\r\n",
        "to_be_norm_dataset=Face_Dataset(train_root, transform=transforms.Compose([\r\n",
        "                                                             transforms.Resize((105,105)),\r\n",
        "                                                             transforms.ToTensor()\r\n",
        "                                           ]))\r\n",
        "\r\n",
        "mean, std= find_mean_std(to_be_norm_dataset, batch_s=batch_size)\r\n",
        "\r\n",
        "print(f'mean: {mean.item()}    std: {std.item()}')"
      ],
      "execution_count": null,
      "outputs": [
        {
          "output_type": "stream",
          "text": [
            "['N_Ko', 'Greek', 'Japanese_(katakana)', 'Anglo-Saxon_Futhorc', 'Futurama', 'Cyrillic', 'Burmese_(Myanmar)', 'Ojibwe_(Canadian_Aboriginal_Syllabics)', 'Hebrew', 'Grantha', 'Blackfoot_(Canadian_Aboriginal_Syllabics)', 'Malay_(Jawi_-_Arabic)', 'Mkhedruli_(Georgian)', 'Early_Aramaic', 'Inuktitut_(Canadian_Aboriginal_Syllabics)', 'Arcadian', 'Alphabet_of_the_Magi', 'Bengali', 'Gujarati', 'Balinese', 'Asomtavruli_(Georgian)', 'Braille', 'Syriac_(Estrangelo)', 'Tagalog', 'Sanskrit', 'Tifinagh', 'Latin', 'Japanese_(hiragana)', 'Korean', 'Armenian']\n",
            "Total number of samples:  19280\n",
            "mean: 0.923902690410614    std: 0.2651536762714386\n"
          ],
          "name": "stdout"
        }
      ]
    },
    {
      "cell_type": "code",
      "metadata": {
        "colab": {
          "base_uri": "https://localhost:8080/"
        },
        "id": "_yOiFlpFCxwt",
        "outputId": "5761d659-2808-4720-b4c9-d195c7779438"
      },
      "source": [
        "# prepare datasets(OMNIGLOT)\r\n",
        "\r\n",
        "transform=transforms.Compose([\r\n",
        "                              transforms.Resize((105,105)),\r\n",
        "                              transforms.RandomAffine(30,shear=0.2),\r\n",
        "                              transforms.ToTensor(),\r\n",
        "                              transforms.Normalize([mean.item()],[std.item()]),\r\n",
        "])\r\n",
        "# dataset=Face_Dataset(root,transform=transform)\r\n",
        "dataset_train=Face_Dataset(train_root, transform=transform)\r\n",
        "dataset_val=Face_Dataset(val_root,job='val', ways=ways, transform=transforms.Compose([transforms.Resize((105,105)),\r\n",
        "                                                            transforms.ToTensor()])\r\n",
        ")\r\n",
        "\r\n",
        "dataloader_train=DataLoader(dataset=dataset_train, batch_size=batch_size)\r\n",
        "dataloader_val=DataLoader(dataset=dataset_val, batch_size=batch_size)\r\n"
      ],
      "execution_count": null,
      "outputs": [
        {
          "output_type": "stream",
          "text": [
            "['N_Ko', 'Greek', 'Japanese_(katakana)', 'Anglo-Saxon_Futhorc', 'Futurama', 'Cyrillic', 'Burmese_(Myanmar)', 'Ojibwe_(Canadian_Aboriginal_Syllabics)', 'Hebrew', 'Grantha', 'Blackfoot_(Canadian_Aboriginal_Syllabics)', 'Malay_(Jawi_-_Arabic)', 'Mkhedruli_(Georgian)', 'Early_Aramaic', 'Inuktitut_(Canadian_Aboriginal_Syllabics)', 'Arcadian', 'Alphabet_of_the_Magi', 'Bengali', 'Gujarati', 'Balinese', 'Asomtavruli_(Georgian)', 'Braille', 'Syriac_(Estrangelo)', 'Tagalog', 'Sanskrit', 'Tifinagh', 'Latin', 'Japanese_(hiragana)', 'Korean', 'Armenian']\n",
            "['Kannada', 'Oriya', 'Gurmukhi', 'Atemayar_Qelisayer', 'Malayalam', 'Atlantean', 'Syriac_(Serto)', 'Ge_ez', 'Manipuri', 'ULOG', 'Glagolitic', 'Angelic', 'Aurek-Besh', 'Tibetan', 'Mongolian', 'Tengwar', 'Avesta', 'Old_Church_Slavonic_(Cyrillic)', 'Keble', 'Sylheti']\n"
          ],
          "name": "stdout"
        }
      ]
    },
    {
      "cell_type": "markdown",
      "metadata": {
        "id": "OrDuJ8_FJKdK"
      },
      "source": [
        "# Check if the datasets are working"
      ]
    },
    {
      "cell_type": "code",
      "metadata": {
        "colab": {
          "base_uri": "https://localhost:8080/",
          "height": 305
        },
        "id": "_ot9oW_opDcW",
        "outputId": "544c24b1-9b67-410b-a473-ff9800dabb9f"
      },
      "source": [
        "# Testing train Dataset\r\n",
        "img1,img2,are_Same=dataset_train[1]\r\n",
        "\r\n",
        "print(are_Same.item())\r\n",
        "print(img1.shape,'\\n',img2.shape)\r\n",
        "\r\n",
        "# convert to PIL and multiply with std and add mean to un-normalize the images for viewing purposes only\r\n",
        "show_img1=transforms.ToPILImage()(img1.mul_(std).add_(mean))\r\n",
        "show_img2=transforms.ToPILImage()(img2.mul_(std).add_(mean))\r\n",
        "\r\n",
        "print(show_img1.size,'\\n',show_img2.size)\r\n",
        "\r\n",
        "plt.subplot(121)\r\n",
        "plt.imshow(show_img1,cmap='gray')\r\n",
        "\r\n",
        "plt.subplot(122)\r\n",
        "plt.imshow(show_img2,cmap='gray')\r\n"
      ],
      "execution_count": null,
      "outputs": [
        {
          "output_type": "stream",
          "text": [
            "0.0\n",
            "torch.Size([1, 105, 105]) \n",
            " torch.Size([1, 105, 105])\n",
            "(105, 105) \n",
            " (105, 105)\n"
          ],
          "name": "stdout"
        },
        {
          "output_type": "execute_result",
          "data": {
            "text/plain": [
              "<matplotlib.image.AxesImage at 0x7fe398456c50>"
            ]
          },
          "metadata": {
            "tags": []
          },
          "execution_count": 36
        },
        {
          "output_type": "display_data",
          "data": {
            "image/png": "[encoded data removed]",
            "text/plain": [
              "<Figure size 432x288 with 2 Axes>"
            ]
          },
          "metadata": {
            "tags": [],
            "needs_background": "light"
          }
        }
      ]
    },
    {
      "cell_type": "code",
      "metadata": {
        "colab": {
          "base_uri": "https://localhost:8080/",
          "height": 151
        },
        "id": "bns9opIniZfw",
        "outputId": "c645dfa3-2cd9-4377-99f9-595927167e6e"
      },
      "source": [
        "# Testing validation Dataset\r\n",
        "imgs=dataset_val[0]\r\n",
        "\r\n",
        "print(imgs.shape, imgs[0,:].shape)\r\n",
        "\r\n",
        "# data_iter=iter(dataloader_val)\r\n",
        "# images=data_iter.next()\r\n",
        "# print(images.shape) #torch.Size([16, 10, 1, 105, 105])\r\n",
        "\r\n",
        "for i in range(ways):\r\n",
        "  img=imgs[i,:]\r\n",
        "  plt.subplot(5,5,(i+1))\r\n",
        "  plt.imshow(transforms.ToPILImage()(img), cmap='gray')\r\n"
      ],
      "execution_count": null,
      "outputs": [
        {
          "output_type": "stream",
          "text": [
            "torch.Size([10, 1, 105, 105]) torch.Size([1, 105, 105])\n"
          ],
          "name": "stdout"
        },
        {
          "output_type": "display_data",
          "data": {
            "image/png": "[encoded data removed]",
            "text/plain": [
              "<Figure size 432x288 with 10 Axes>"
            ]
          },
          "metadata": {
            "tags": [],
            "needs_background": "light"
          }
        }
      ]
    },
    {
      "cell_type": "markdown",
      "metadata": {
        "id": "theepUp-uO_v"
      },
      "source": [
        "# **Training**"
      ]
    },
    {
      "cell_type": "code",
      "metadata": {
        "id": "R0kTpvF_UvT3",
        "colab": {
          "base_uri": "https://localhost:8080/"
        },
        "outputId": "752bf477-474c-47a4-9b73-c480acea3182"
      },
      "source": [
        "device = torch.device(\"cuda\" if torch.cuda.is_available() else \"cpu\")\r\n",
        "\r\n",
        "model=Siamese_Net().to(device)\r\n",
        "\r\n",
        "loss_function=nn.BCEWithLogitsLoss()\r\n",
        "optimizer=optim.Adam(model.parameters(),lr=3e-4,weight_decay=6e-5)\r\n",
        "# lr_scheduler=optim.lr_scheduler.ReduceLROnPlateau(optimizer, patience=4, verbose=True)\r\n",
        "lr_scheduler=optim.lr_scheduler.ExponentialLR(optimizer, gamma=0.99, verbose=True)\r\n",
        "\r\n",
        "epochs=500"
      ],
      "execution_count": null,
      "outputs": [
        {
          "output_type": "stream",
          "text": [
            "Adjusting learning rate of group 0 to 3.0000e-04.\n"
          ],
          "name": "stdout"
        }
      ]
    },
    {
      "cell_type": "code",
      "metadata": {
        "colab": {
          "base_uri": "https://localhost:8080/"
        },
        "id": "LkPGycT_ZFXM",
        "outputId": "d007f396-82af-43bf-9f0f-45d7a3ce07be"
      },
      "source": [
        "# Train Network\r\n",
        "\r\n",
        "t_loss,accuracy=[],[]\r\n",
        "val_every=1\r\n",
        "save_every=50\r\n",
        "\r\n",
        "for epoch in range(epochs+1):\r\n",
        "  t_loss_batch=[]\r\n",
        "  \r\n",
        "  # ----------------------training---------------------------------------------\r\n",
        "  model.train()\r\n",
        "  for batch_idx, (img1, img2, isSame) in enumerate(dataloader_train):\r\n",
        "    # Get data to cuda if possible\r\n",
        "    img1, img2, isSame= img1.to(device),img2.to(device),isSame.to(device)\r\n",
        "\r\n",
        "    # forward\r\n",
        "    scores = model(img1, img2)\r\n",
        "    loss = loss_function(scores, isSame)\r\n",
        "    \r\n",
        "    # backward\r\n",
        "    optimizer.zero_grad()\r\n",
        "    loss.backward()\r\n",
        "\r\n",
        "    # update weights\r\n",
        "    optimizer.step()\r\n",
        "\r\n",
        "    t_loss_batch.append(loss.item())\r\n",
        "  \r\n",
        "  mean_loss=sum(t_loss_batch)/len(t_loss_batch)\r\n",
        "  t_loss.append(mean_loss)\r\n",
        "  # ------------------------lr scheduler---------------------------------------------\r\n",
        "  \r\n",
        "  # for ExponentialLR \r\n",
        "  # lr_scheduler.step()\r\n",
        "  \r\n",
        "  # forReduceLROnPlateau\r\n",
        "  # lr_scheduler.step(mean_loss)\r\n",
        "  \r\n",
        "  # -----------------------------Validation----------------------------------\r\n",
        "  if epoch%val_every==0:\r\n",
        "    model.eval()\r\n",
        "    with torch.no_grad():\r\n",
        "      batch_accuracy=[]\r\n",
        "      for batch_idx,images in enumerate(dataloader_val):\r\n",
        "        score_l,correct=[],0\r\n",
        "        images=images.to(device)\r\n",
        "        img1=images[:,0,:]\r\n",
        "\r\n",
        "        for i in range(1,ways):\r\n",
        "          score=torch.sigmoid(model(img1,images[:,i,:]))\r\n",
        "          score_l.append(score)\r\n",
        "\r\n",
        "        scores=torch.stack(score_l)\r\n",
        "\r\n",
        "        results=torch.argmax(scores,0)\r\n",
        "\r\n",
        "        for i in range(results.shape[0]):\r\n",
        "          if results[i,:].item()==0:\r\n",
        "            correct+=1\r\n",
        "\r\n",
        "        total=images.shape[0]\r\n",
        "        batch_accuracy.append(correct/total)\r\n",
        "\r\n",
        "      # finding the accuracy of that epoch\r\n",
        "      accuracy.append(sum(batch_accuracy)/len(batch_accuracy))\r\n",
        "    print(f'Epoch No.:{epoch} training loss:{t_loss[-1]}  validation accuracy:{accuracy[-1]*100}%')\r\n",
        "  \r\n",
        "  if epoch%save_every==0:\r\n",
        "    torch.save({\r\n",
        "            'epoch': epoch,\r\n",
        "            'model_state_dict': model.state_dict(),\r\n",
        "            'optimizer_state_dict': optimizer.state_dict(),\r\n",
        "            'loss': t_loss[-1],\r\n",
        "            }, f'/content/drive/MyDrive/dataset/ckpts_newest/checkp{epoch}.pt')\r\n",
        "    "
      ],
      "execution_count": null,
      "outputs": [
        {
          "output_type": "stream",
          "text": [
            "Epoch No.:0 training loss:0.5438833923013379  validation accuracy:12.644114077669903%\n",
            "Epoch No.:1 training loss:0.44210063513383824  validation accuracy:13.129550970873785%\n",
            "Epoch No.:2 training loss:0.34877433553028897  validation accuracy:15.4100930420712%\n",
            "Epoch No.:3 training loss:0.2839657190986194  validation accuracy:9.301678802588995%\n",
            "Epoch No.:4 training loss:0.23512573462767966  validation accuracy:9.466019417475728%\n",
            "Epoch No.:5 training loss:0.20199604559210574  validation accuracy:14.972694174757281%\n",
            "Epoch No.:6 training loss:0.1917566453520193  validation accuracy:11.736448220064725%\n",
            "Epoch No.:7 training loss:0.17663329681420228  validation accuracy:21.2353357605178%\n",
            "Epoch No.:8 training loss:0.16417881500872464  validation accuracy:17.880258899676377%\n",
            "Epoch No.:9 training loss:0.15639627440465437  validation accuracy:9.392698220064725%\n",
            "Epoch No.:10 training loss:0.15576457058338455  validation accuracy:12.765473300970873%\n",
            "Epoch No.:11 training loss:0.14365739802833785  validation accuracy:13.427892394822006%\n",
            "Epoch No.:12 training loss:0.1314594514953954  validation accuracy:9.028620550161811%\n",
            "Epoch No.:13 training loss:0.13871609350102201  validation accuracy:18.676678802589%\n",
            "Epoch No.:14 training loss:0.1267236809168954  validation accuracy:18.6058859223301%\n",
            "Epoch No.:15 training loss:0.1256594842809921  validation accuracy:21.978661003236244%\n",
            "Epoch No.:16 training loss:0.11953496677932403  validation accuracy:16.145833333333332%\n",
            "Epoch No.:17 training loss:0.11946986710529048  validation accuracy:12.603661003236247%\n",
            "Epoch No.:18 training loss:0.10800596910231279  validation accuracy:29.619235436893206%\n",
            "Epoch No.:19 training loss:0.11021823771645728  validation accuracy:22.519720873786408%\n",
            "Epoch No.:20 training loss:0.10331861614964562  validation accuracy:16.067455501618124%\n",
            "Epoch No.:21 training loss:0.10239518346550924  validation accuracy:23.930521844660195%\n",
            "Epoch No.:22 training loss:0.10392326010908946  validation accuracy:17.938410194174757%\n",
            "Epoch No.:23 training loss:0.1048429801963517  validation accuracy:29.232402912621357%\n",
            "Epoch No.:24 training loss:0.09802502536802278  validation accuracy:22.80289239482201%\n",
            "Epoch No.:25 training loss:0.10097666374674352  validation accuracy:24.941848705501616%\n",
            "Epoch No.:26 training loss:0.09045848063448313  validation accuracy:23.738369741100325%\n",
            "Epoch No.:27 training loss:0.09478898890726113  validation accuracy:25.295813106796118%\n",
            "Epoch No.:28 training loss:0.0935682414051269  validation accuracy:16.712176375404532%\n",
            "Epoch No.:29 training loss:0.09170179395662056  validation accuracy:32.701254045307444%\n",
            "Epoch No.:30 training loss:0.092535774661344  validation accuracy:17.36448220064725%\n",
            "Epoch No.:31 training loss:0.09113703140413149  validation accuracy:18.40109223300971%\n",
            "Epoch No.:32 training loss:0.08948725759596622  validation accuracy:30.425768608414238%\n",
            "Epoch No.:33 training loss:0.0864917965416499  validation accuracy:17.08131067961165%\n",
            "Epoch No.:34 training loss:0.08215159002026828  validation accuracy:20.67404935275081%\n",
            "Epoch No.:35 training loss:0.0863456998288987  validation accuracy:33.5962783171521%\n",
            "Epoch No.:36 training loss:0.08183325169650506  validation accuracy:27.214805825242717%\n",
            "Epoch No.:37 training loss:0.08127109667777056  validation accuracy:20.66140776699029%\n",
            "Epoch No.:38 training loss:0.08187910147104026  validation accuracy:29.523159385113267%\n",
            "Epoch No.:39 training loss:0.07878882293202973  validation accuracy:22.658778317152102%\n",
            "Epoch No.:40 training loss:0.0734877301698852  validation accuracy:27.490392394822006%\n",
            "Epoch No.:41 training loss:0.0758648170177589  validation accuracy:7.296723300970874%\n",
            "Epoch No.:42 training loss:0.07809985003866936  validation accuracy:29.36640372168285%\n",
            "Epoch No.:43 training loss:0.08338719198511163  validation accuracy:15.0561286407767%\n",
            "Epoch No.:44 training loss:0.07745255373893653  validation accuracy:13.531553398058252%\n",
            "Epoch No.:45 training loss:0.07847251446716703  validation accuracy:25.151699029126213%\n",
            "Epoch No.:46 training loss:0.07306048229406298  validation accuracy:8.404126213592233%\n",
            "Epoch No.:47 training loss:0.08136922731798497  validation accuracy:9.59496359223301%\n",
            "Epoch No.:48 training loss:0.07275020705557263  validation accuracy:13.602346278317151%\n",
            "Epoch No.:49 training loss:0.07407743368168358  validation accuracy:19.80683656957929%\n",
            "Epoch No.:50 training loss:0.07246876969514221  validation accuracy:22.347795307443366%\n",
            "Epoch No.:51 training loss:0.0701683730126602  validation accuracy:10.669498381877023%\n",
            "Epoch No.:52 training loss:0.07350455697575638  validation accuracy:12.780643203883496%\n",
            "Epoch No.:53 training loss:0.07090041274088918  validation accuracy:14.580805016181229%\n",
            "Epoch No.:54 training loss:0.06841346235845346  validation accuracy:15.938511326860844%\n",
            "Epoch No.:55 training loss:0.07475627034833013  validation accuracy:17.134405339805824%\n",
            "Epoch No.:56 training loss:0.07365547146346745  validation accuracy:17.958636731391582%\n",
            "Epoch No.:57 training loss:0.06781417078452563  validation accuracy:20.777710355987054%\n",
            "Epoch No.:58 training loss:0.07080320192682577  validation accuracy:16.246966019417474%\n",
            "Epoch No.:59 training loss:0.06614971995475427  validation accuracy:12.328074433656958%\n",
            "Epoch No.:60 training loss:0.07354483071239318  validation accuracy:14.434162621359222%\n",
            "Epoch No.:61 training loss:0.06764718661591008  validation accuracy:18.88147249190939%\n",
            "Epoch No.:62 training loss:0.06570684185726916  validation accuracy:21.708131067961165%\n",
            "Epoch No.:63 training loss:0.06902982236380802  validation accuracy:13.700950647249192%\n",
            "Epoch No.:64 training loss:0.06006655873580067  validation accuracy:11.415351941747574%\n",
            "Epoch No.:65 training loss:0.06626095752776659  validation accuracy:16.79055420711974%\n",
            "Epoch No.:66 training loss:0.06438897760262273  validation accuracy:17.966221682847898%\n",
            "Epoch No.:67 training loss:0.06719785162578125  validation accuracy:16.50485436893204%\n",
            "Epoch No.:68 training loss:0.06084892083340058  validation accuracy:19.617212783171524%\n",
            "Epoch No.:69 training loss:0.06832526259006415  validation accuracy:14.333029935275082%\n",
            "Epoch No.:70 training loss:0.05930142147820134  validation accuracy:19.65008090614887%\n",
            "Epoch No.:71 training loss:0.06605236185965789  validation accuracy:18.646338996763756%\n",
            "Epoch No.:72 training loss:0.06253854424704283  validation accuracy:14.952467637540453%\n",
            "Epoch No.:73 training loss:0.06249073028846555  validation accuracy:16.03711569579288%\n",
            "Epoch No.:74 training loss:0.06176937168050573  validation accuracy:21.427487864077673%\n",
            "Epoch No.:75 training loss:0.061308105789700765  validation accuracy:14.047330097087379%\n",
            "Epoch No.:76 training loss:0.061325148480009146  validation accuracy:15.822208737864077%\n",
            "Epoch No.:77 training loss:0.06501644730453932  validation accuracy:16.861347087378643%\n",
            "Epoch No.:78 training loss:0.05636254790590697  validation accuracy:13.607402912621358%\n",
            "Epoch No.:79 training loss:0.06039916747732714  validation accuracy:7.660800970873787%\n",
            "Epoch No.:80 training loss:0.06216918089546851  validation accuracy:9.61013349514563%\n",
            "Epoch No.:81 training loss:0.058299304773022434  validation accuracy:23.111347087378643%\n",
            "Epoch No.:82 training loss:0.061344744880390024  validation accuracy:14.96510922330097%\n",
            "Epoch No.:83 training loss:0.06063914210303721  validation accuracy:8.558353559870548%\n",
            "Epoch No.:84 training loss:0.05918333705184262  validation accuracy:8.535598705501618%\n",
            "Epoch No.:85 training loss:0.058729957852655584  validation accuracy:7.162722491909386%\n",
            "Epoch No.:86 training loss:0.056114827131724984  validation accuracy:9.888248381877023%\n",
            "Epoch No.:87 training loss:0.06226259229851585  validation accuracy:13.566949838187703%\n",
            "Epoch No.:88 training loss:0.05806407692032592  validation accuracy:9.349716828478966%\n",
            "Epoch No.:89 training loss:0.05518159556523337  validation accuracy:10.80349919093851%\n",
            "Epoch No.:90 training loss:0.05852827353410701  validation accuracy:9.223300970873787%\n",
            "Epoch No.:91 training loss:0.06200937021560426  validation accuracy:13.18770226537217%\n",
            "Epoch No.:92 training loss:0.058769251794372666  validation accuracy:12.955097087378642%\n",
            "Epoch No.:93 training loss:0.05908369657871433  validation accuracy:11.701051779935275%\n",
            "Epoch No.:94 training loss:0.05476600276808645  validation accuracy:9.064016990291263%\n",
            "Epoch No.:95 training loss:0.05963789399199312  validation accuracy:9.423038025889968%\n",
            "Epoch No.:96 training loss:0.0531804147426665  validation accuracy:15.364583333333334%\n",
            "Epoch No.:97 training loss:0.05530733371624932  validation accuracy:6.5306432038834945%\n",
            "Epoch No.:98 training loss:0.05405988041069977  validation accuracy:6.482605177993528%\n",
            "Epoch No.:99 training loss:0.05368272956188756  validation accuracy:10.836367313915858%\n",
            "Epoch No.:100 training loss:0.05793802430225281  validation accuracy:9.051375404530743%\n",
            "Epoch No.:101 training loss:0.054952705292807914  validation accuracy:7.777103559870549%\n",
            "Epoch No.:102 training loss:0.05958137587485719  validation accuracy:10.431836569579287%\n",
            "Epoch No.:103 training loss:0.058868539090610315  validation accuracy:6.449737055016182%\n",
            "Epoch No.:104 training loss:0.05305110324827251  validation accuracy:18.92698220064725%\n",
            "Epoch No.:105 training loss:0.05735760772382431  validation accuracy:12.768001618122977%\n",
            "Epoch No.:106 training loss:0.05411984425596506  validation accuracy:10.429308252427184%\n",
            "Epoch No.:107 training loss:0.057173165472908356  validation accuracy:7.266383495145631%\n",
            "Epoch No.:108 training loss:0.055332292055641594  validation accuracy:5.820186084142395%\n",
            "Epoch No.:109 training loss:0.05210034682365188  validation accuracy:7.691140776699029%\n",
            "Epoch No.:110 training loss:0.056328000989887494  validation accuracy:13.033474919093852%\n",
            "Epoch No.:111 training loss:0.05384029749118147  validation accuracy:7.577366504854369%\n",
            "Epoch No.:112 training loss:0.054595663552017906  validation accuracy:15.405036407766989%\n",
            "Epoch No.:113 training loss:0.05004768453246655  validation accuracy:11.220671521035598%\n",
            "Epoch No.:114 training loss:0.05437590041969752  validation accuracy:14.24706715210356%\n",
            "Epoch No.:115 training loss:0.056099312162824766  validation accuracy:9.582322006472491%\n",
            "Epoch No.:116 training loss:0.05112304053756242  validation accuracy:16.069983818770226%\n",
            "Epoch No.:117 training loss:0.05418618221089043  validation accuracy:15.228054207119742%\n",
            "Epoch No.:118 training loss:0.048809922609625085  validation accuracy:7.038834951456311%\n",
            "Epoch No.:119 training loss:0.05618546049475778  validation accuracy:12.302791262135921%\n",
            "Epoch No.:120 training loss:0.05563789171541566  validation accuracy:14.118122977346278%\n",
            "Epoch No.:121 training loss:0.05353881425936262  validation accuracy:9.703681229773462%\n",
            "Epoch No.:122 training loss:0.0572890137577298  validation accuracy:5.387843851132686%\n",
            "Epoch No.:123 training loss:0.052912969427585166  validation accuracy:5.175465210355988%\n",
            "Epoch No.:124 training loss:0.05673821652472344  validation accuracy:8.639259708737864%\n",
            "Epoch No.:125 training loss:0.053644645520238614  validation accuracy:12.697208737864077%\n",
            "Epoch No.:126 training loss:0.0520914049575171  validation accuracy:6.826456310679611%\n",
            "Epoch No.:127 training loss:0.04864833383082849  validation accuracy:8.649372977346276%\n",
            "Epoch No.:128 training loss:0.05465295969893097  validation accuracy:6.305622977346278%\n",
            "Epoch No.:129 training loss:0.0521676492456084  validation accuracy:7.863066343042072%\n",
            "Epoch No.:130 training loss:0.05555482779424715  validation accuracy:9.890776699029127%\n",
            "Epoch No.:131 training loss:0.05151386603025171  validation accuracy:11.036104368932039%\n",
            "Epoch No.:132 training loss:0.05411189781121245  validation accuracy:6.758191747572815%\n",
            "Epoch No.:133 training loss:0.052136124024472943  validation accuracy:9.13986650485437%\n",
            "Epoch No.:134 training loss:0.049877126349804776  validation accuracy:6.6216626213592225%\n",
            "Epoch No.:135 training loss:0.05277287603831266  validation accuracy:11.531654530744335%\n",
            "Epoch No.:136 training loss:0.05341927337380999  validation accuracy:8.348503236245955%\n",
            "Epoch No.:137 training loss:0.0492809975837624  validation accuracy:9.400283171521034%\n",
            "Epoch No.:138 training loss:0.050955456505622325  validation accuracy:8.613976537216828%\n",
            "Epoch No.:139 training loss:0.05243457093548911  validation accuracy:7.390271035598706%\n",
            "Epoch No.:140 training loss:0.051737394305409794  validation accuracy:8.340918284789645%\n",
            "Epoch No.:141 training loss:0.04947350216972452  validation accuracy:13.776800161812297%\n",
            "Epoch No.:142 training loss:0.050630725833637584  validation accuracy:9.147451456310678%\n",
            "Epoch No.:143 training loss:0.04997473479426346  validation accuracy:12.993021844660193%\n",
            "Epoch No.:144 training loss:0.05385507107190633  validation accuracy:10.479874595469257%\n",
            "Epoch No.:145 training loss:0.04103085571485552  validation accuracy:9.278923948220063%\n",
            "Epoch No.:146 training loss:0.050169472735040896  validation accuracy:8.13865291262136%\n",
            "Epoch No.:147 training loss:0.04558660742402641  validation accuracy:8.482504045307444%\n",
            "Epoch No.:148 training loss:0.05283529488683806  validation accuracy:11.205501618122977%\n",
            "Epoch No.:149 training loss:0.04870117751174293  validation accuracy:11.847694174757281%\n",
            "Epoch No.:150 training loss:0.046013892569368574  validation accuracy:21.842131877022652%\n",
            "Epoch No.:151 training loss:0.05303508095043282  validation accuracy:8.391484627831716%\n",
            "Epoch No.:152 training loss:0.05169226602966128  validation accuracy:7.703782362459546%\n",
            "Epoch No.:153 training loss:0.05117752067879986  validation accuracy:21.022957119741097%\n",
            "Epoch No.:154 training loss:0.04586737528646218  validation accuracy:11.24342637540453%\n",
            "Epoch No.:155 training loss:0.04846508381134711  validation accuracy:8.578580097087379%\n",
            "Epoch No.:156 training loss:0.05128867416217521  validation accuracy:12.664340614886733%\n",
            "Epoch No.:157 training loss:0.04661747505492241  validation accuracy:6.849211165048544%\n",
            "Epoch No.:158 training loss:0.05080742840500572  validation accuracy:6.414340614886731%\n",
            "Epoch No.:159 training loss:0.045859892930617145  validation accuracy:6.045206310679611%\n",
            "Epoch No.:160 training loss:0.04762378066611047  validation accuracy:4.065533980582525%\n",
            "Epoch No.:161 training loss:0.044845535288105  validation accuracy:6.634304207119741%\n",
            "Epoch No.:162 training loss:0.04683359207699454  validation accuracy:7.155137540453074%\n",
            "Epoch No.:163 training loss:0.04593686178366217  validation accuracy:19.000303398058254%\n",
            "Epoch No.:164 training loss:0.046213708947802974  validation accuracy:9.385113268608414%\n",
            "Epoch No.:165 training loss:0.04803439767662188  validation accuracy:11.304105987055015%\n",
            "Epoch No.:166 training loss:0.04447104571376544  validation accuracy:12.502528317152104%\n",
            "Epoch No.:167 training loss:0.04609912208477576  validation accuracy:12.775586569579286%\n",
            "Epoch No.:168 training loss:0.04771556590632555  validation accuracy:9.218244336569578%\n",
            "Epoch No.:169 training loss:0.05015857603765166  validation accuracy:11.93871359223301%\n",
            "Epoch No.:170 training loss:0.04886294274834367  validation accuracy:8.080501618122977%\n",
            "Epoch No.:171 training loss:0.048576243025544426  validation accuracy:12.628944174757281%\n",
            "Epoch No.:172 training loss:0.049663293073668735  validation accuracy:12.565736245954692%\n",
            "Epoch No.:173 training loss:0.05007322487088994  validation accuracy:21.144316343042068%\n",
            "Epoch No.:174 training loss:0.04910987863467844  validation accuracy:10.73776294498382%\n",
            "Epoch No.:175 training loss:0.04842561046767756  validation accuracy:11.12206715210356%\n",
            "Epoch No.:176 training loss:0.046514547718312066  validation accuracy:24.817961165048544%\n",
            "Epoch No.:177 training loss:0.04751559124367806  validation accuracy:22.646136731391582%\n",
            "Epoch No.:178 training loss:0.04721636558531231  validation accuracy:24.029126213592235%\n",
            "Epoch No.:179 training loss:0.04837905112195072  validation accuracy:18.01173139158576%\n",
            "Epoch No.:180 training loss:0.05015188893940903  validation accuracy:12.143507281553397%\n",
            "Epoch No.:181 training loss:0.04741733695720458  validation accuracy:9.26881067961165%\n",
            "Epoch No.:182 training loss:0.04725511989225846  validation accuracy:8.51537216828479%\n",
            "Epoch No.:183 training loss:0.04600501547483495  validation accuracy:6.191848705501619%\n",
            "Epoch No.:184 training loss:0.04837404577413195  validation accuracy:8.045105177993527%\n",
            "Epoch No.:185 training loss:0.043480484574768476  validation accuracy:11.58474919093851%\n",
            "Epoch No.:186 training loss:0.05158885174452161  validation accuracy:33.570995145631066%\n",
            "Epoch No.:187 training loss:0.04059479052386405  validation accuracy:12.740190129449838%\n",
            "Epoch No.:188 training loss:0.043402628854537356  validation accuracy:11.787014563106796%\n",
            "Epoch No.:189 training loss:0.046176555894964465  validation accuracy:7.425667475728155%\n",
            "Epoch No.:190 training loss:0.047316259702887865  validation accuracy:10.972896440129452%\n",
            "Epoch No.:191 training loss:0.04502733704060146  validation accuracy:21.953377831715212%\n",
            "Epoch No.:192 training loss:0.04655427510523589  validation accuracy:12.808454692556634%\n",
            "Epoch No.:193 training loss:0.04376588066232186  validation accuracy:17.255764563106794%\n",
            "Epoch No.:194 training loss:0.047688952234237456  validation accuracy:20.504652103559874%\n",
            "Epoch No.:195 training loss:0.0470178488620723  validation accuracy:16.226739482200646%\n",
            "Epoch No.:196 training loss:0.04878774435552614  validation accuracy:8.103256472491909%\n",
            "Epoch No.:197 training loss:0.041799117884979316  validation accuracy:10.206816343042071%\n",
            "Epoch No.:198 training loss:0.0452127482372054  validation accuracy:8.773260517799352%\n",
            "Epoch No.:199 training loss:0.04624573577879406  validation accuracy:6.538228155339806%\n",
            "Epoch No.:200 training loss:0.04498826034455966  validation accuracy:8.490088996763753%\n",
            "Epoch No.:201 training loss:0.04248994704194877  validation accuracy:13.030946601941748%\n",
            "Epoch No.:202 training loss:0.04911137574267307  validation accuracy:16.67677993527508%\n",
            "Epoch No.:203 training loss:0.04598087588715448  validation accuracy:14.512540453074433%\n",
            "Epoch No.:204 training loss:0.04727606680350479  validation accuracy:12.588491100323626%\n",
            "Epoch No.:205 training loss:0.04699621853018682  validation accuracy:6.452265372168285%\n",
            "Epoch No.:206 training loss:0.046379690976447285  validation accuracy:11.733919902912621%\n",
            "Epoch No.:207 training loss:0.0438821152705676  validation accuracy:12.993021844660193%\n",
            "Epoch No.:208 training loss:0.04785247144257433  validation accuracy:24.946905339805824%\n",
            "Epoch No.:209 training loss:0.04489760597089607  validation accuracy:12.596076051779937%\n",
            "Epoch No.:210 training loss:0.04865477846237866  validation accuracy:7.875707928802589%\n",
            "Epoch No.:211 training loss:0.04038823436995431  validation accuracy:10.272552588996762%\n",
            "Epoch No.:212 training loss:0.048029368905895445  validation accuracy:10.325647249190938%\n",
            "Epoch No.:213 training loss:0.04450257621228278  validation accuracy:16.651496763754047%\n",
            "Epoch No.:214 training loss:0.04821422322792353  validation accuracy:21.783980582524272%\n",
            "Epoch No.:215 training loss:0.04750871811481386  validation accuracy:24.168183656957932%\n",
            "Epoch No.:216 training loss:0.045233740214610095  validation accuracy:17.05855582524272%\n",
            "Epoch No.:217 training loss:0.04965933849677614  validation accuracy:8.866808252427184%\n",
            "Epoch No.:218 training loss:0.04393611304318007  validation accuracy:13.946197411003237%\n",
            "Epoch No.:219 training loss:0.04447200668427931  validation accuracy:18.89664239482201%\n",
            "Epoch No.:220 training loss:0.042085287680258175  validation accuracy:17.546521035598705%\n",
            "Epoch No.:221 training loss:0.04605883125793498  validation accuracy:12.115695792880258%\n",
            "Epoch No.:222 training loss:0.046303019797452626  validation accuracy:21.11397653721683%\n",
            "Epoch No.:223 training loss:0.04469500361995857  validation accuracy:11.749089805825243%\n",
            "Epoch No.:224 training loss:0.04581045156868399  validation accuracy:7.564724919093852%\n",
            "Epoch No.:225 training loss:0.042558639325661375  validation accuracy:20.016686893203882%\n",
            "Epoch No.:226 training loss:0.03963112036211617  validation accuracy:9.862965210355986%\n",
            "Epoch No.:227 training loss:0.04577733370788488  validation accuracy:13.95631067961165%\n",
            "Epoch No.:228 training loss:0.047475632907594725  validation accuracy:19.682949029126213%\n",
            "Epoch No.:229 training loss:0.048245360080734344  validation accuracy:14.6288430420712%\n",
            "Epoch No.:230 training loss:0.04297565008239256  validation accuracy:9.572208737864079%\n",
            "Epoch No.:231 training loss:0.04131536352698386  validation accuracy:21.119033171521036%\n",
            "Epoch No.:232 training loss:0.04898474938661262  validation accuracy:10.593648867313917%\n",
            "Epoch No.:233 training loss:0.04231170120492531  validation accuracy:19.177285598705502%\n",
            "Epoch No.:234 training loss:0.04593690769675408  validation accuracy:34.68092637540453%\n",
            "Epoch No.:235 training loss:0.04625163697480626  validation accuracy:8.093143203883495%\n",
            "Epoch No.:236 training loss:0.044456159656324434  validation accuracy:14.568163430420714%\n",
            "Epoch No.:237 training loss:0.04737072513154727  validation accuracy:21.594356796116504%\n",
            "Epoch No.:238 training loss:0.04229500688326495  validation accuracy:15.961266181229774%\n",
            "Epoch No.:239 training loss:0.046662243484776406  validation accuracy:8.330805016181229%\n",
            "Epoch No.:240 training loss:0.04573271807971028  validation accuracy:17.857504045307447%\n",
            "Epoch No.:241 training loss:0.04623885770160241  validation accuracy:20.86620145631068%\n",
            "Epoch No.:242 training loss:0.04573096482612626  validation accuracy:13.506270226537218%\n",
            "Epoch No.:243 training loss:0.039079264386680704  validation accuracy:12.090412621359222%\n",
            "Epoch No.:244 training loss:0.04591643381636799  validation accuracy:11.200444983818771%\n",
            "Epoch No.:245 training loss:0.043155845967256676  validation accuracy:21.10133495145631%\n",
            "Epoch No.:246 training loss:0.043735095201093026  validation accuracy:19.270833333333332%\n",
            "Epoch No.:247 training loss:0.045587981384415645  validation accuracy:27.027710355987054%\n",
            "Epoch No.:248 training loss:0.0419346478730015  validation accuracy:19.55400485436893%\n",
            "Epoch No.:249 training loss:0.043188299117822404  validation accuracy:9.337075242718447%\n",
            "Epoch No.:250 training loss:0.046235959380826454  validation accuracy:8.017293689320388%\n",
            "Epoch No.:251 training loss:0.043383260903767935  validation accuracy:11.061387540453074%\n",
            "Epoch No.:252 training loss:0.042818703363877546  validation accuracy:7.134911003236246%\n",
            "Epoch No.:253 training loss:0.0448604190099455  validation accuracy:23.26051779935275%\n",
            "Epoch No.:254 training loss:0.04455299510869789  validation accuracy:20.82322006472492%\n",
            "Epoch No.:255 training loss:0.04309961403530725  validation accuracy:14.778013754045308%\n",
            "Epoch No.:256 training loss:0.04205849677550363  validation accuracy:14.603559870550162%\n",
            "Epoch No.:257 training loss:0.040471344778634975  validation accuracy:8.376314724919093%\n",
            "Epoch No.:258 training loss:0.04318485118345362  validation accuracy:10.854065533980583%\n",
            "Epoch No.:259 training loss:0.042037566719795055  validation accuracy:7.986953883495146%\n",
            "Epoch No.:260 training loss:0.04304374589635971  validation accuracy:12.047431229773462%\n",
            "Epoch No.:261 training loss:0.045762729740999174  validation accuracy:8.464805825242719%\n",
            "Epoch No.:262 training loss:0.041718976017130205  validation accuracy:7.941444174757281%\n",
            "Epoch No.:263 training loss:0.04534681109118341  validation accuracy:6.5331715210356%\n",
            "Epoch No.:264 training loss:0.04382352620581575  validation accuracy:23.058252427184467%\n",
            "Epoch No.:265 training loss:0.042301273737170374  validation accuracy:6.765776699029126%\n",
            "Epoch No.:266 training loss:0.04103070638699001  validation accuracy:12.320489482200648%\n",
            "Epoch No.:267 training loss:0.043717204610511845  validation accuracy:20.451557443365697%\n",
            "Epoch No.:268 training loss:0.04190325099613548  validation accuracy:22.696703074433657%\n",
            "Epoch No.:269 training loss:0.045932563756982875  validation accuracy:19.392192556634303%\n",
            "Epoch No.:270 training loss:0.043082579137797034  validation accuracy:21.75364077669903%\n",
            "Epoch No.:271 training loss:0.04388824036746784  validation accuracy:7.797330097087378%\n",
            "Epoch No.:272 training loss:0.043735782436725074  validation accuracy:16.244437702265373%\n",
            "Epoch No.:273 training loss:0.041190985802617076  validation accuracy:10.924858414239482%\n",
            "Epoch No.:274 training loss:0.03870962741910345  validation accuracy:14.46703074433657%\n",
            "Epoch No.:275 training loss:0.04558891046210675  validation accuracy:22.26436084142395%\n",
            "Epoch No.:276 training loss:0.03918805041498238  validation accuracy:18.952265372168284%\n",
            "Epoch No.:277 training loss:0.0421886071222216  validation accuracy:10.59617718446602%\n",
            "Epoch No.:278 training loss:0.04557863330343908  validation accuracy:11.159991909385113%\n",
            "Epoch No.:279 training loss:0.04402384944110375  validation accuracy:10.704894822006473%\n",
            "Epoch No.:280 training loss:0.040691852166329  validation accuracy:6.553398058252427%\n",
            "Epoch No.:281 training loss:0.042486268657508895  validation accuracy:10.732706310679612%\n",
            "Epoch No.:282 training loss:0.03970003962281056  validation accuracy:11.000707928802589%\n",
            "Epoch No.:283 training loss:0.042260460719356074  validation accuracy:18.719660194174757%\n",
            "Epoch No.:284 training loss:0.04239999803311589  validation accuracy:22.00394417475728%\n",
            "Epoch No.:285 training loss:0.04227912585879966  validation accuracy:9.90088996763754%\n",
            "Epoch No.:286 training loss:0.040702970176828925  validation accuracy:16.310173948220065%\n",
            "Epoch No.:287 training loss:0.0452896702010571  validation accuracy:6.54075647249191%\n",
            "Epoch No.:288 training loss:0.04126008055317776  validation accuracy:5.99463996763754%\n",
            "Epoch No.:289 training loss:0.042902599705027654  validation accuracy:10.722593042071198%\n",
            "Epoch No.:290 training loss:0.04105232265836818  validation accuracy:17.6830501618123%\n",
            "Epoch No.:291 training loss:0.038474843535075715  validation accuracy:11.283879449838189%\n",
            "Epoch No.:292 training loss:0.044167184066128844  validation accuracy:18.712075242718445%\n",
            "Epoch No.:293 training loss:0.04095432982104734  validation accuracy:8.11842637540453%\n",
            "Epoch No.:294 training loss:0.0413437399427992  validation accuracy:13.597289644012944%\n",
            "Epoch No.:295 training loss:0.04111014876729148  validation accuracy:8.945186084142394%\n",
            "Epoch No.:296 training loss:0.044275724641008776  validation accuracy:4.945388349514563%\n",
            "Epoch No.:297 training loss:0.043868142868009594  validation accuracy:4.12621359223301%\n",
            "Epoch No.:298 training loss:0.042380778142927344  validation accuracy:12.68456715210356%\n",
            "Epoch No.:299 training loss:0.044235858414805186  validation accuracy:5.559769417475728%\n",
            "Epoch No.:300 training loss:0.04272556996883059  validation accuracy:12.879247572815533%\n",
            "Epoch No.:301 training loss:0.0438068788385123  validation accuracy:11.61256067961165%\n",
            "Epoch No.:302 training loss:0.041686456137881675  validation accuracy:9.544397249190938%\n",
            "Epoch No.:303 training loss:0.04051741739054871  validation accuracy:15.587075242718445%\n",
            "Epoch No.:304 training loss:0.04172443206416234  validation accuracy:26.595368122977348%\n",
            "Epoch No.:305 training loss:0.04296362124851043  validation accuracy:17.361953883495147%\n",
            "Epoch No.:306 training loss:0.03957759926068554  validation accuracy:10.105683656957929%\n",
            "Epoch No.:307 training loss:0.04371542642805996  validation accuracy:14.570691747572814%\n",
            "Epoch No.:308 training loss:0.04163982221509883  validation accuracy:13.786913430420714%\n",
            "Epoch No.:309 training loss:0.04022082638766431  validation accuracy:10.730177993527509%\n",
            "Epoch No.:310 training loss:0.042053244262209154  validation accuracy:9.68092637540453%\n",
            "Epoch No.:311 training loss:0.04194525470901609  validation accuracy:6.763248381877022%\n",
            "Epoch No.:312 training loss:0.03874261582026807  validation accuracy:10.484931229773462%\n",
            "Epoch No.:313 training loss:0.04326677693477233  validation accuracy:10.932443365695791%\n",
            "Epoch No.:314 training loss:0.040324315827444224  validation accuracy:9.357301779935275%\n",
            "Epoch No.:315 training loss:0.04223878780661027  validation accuracy:7.595064724919094%\n",
            "Epoch No.:316 training loss:0.04164019496502795  validation accuracy:5.382787216828479%\n",
            "Epoch No.:317 training loss:0.040994309468863385  validation accuracy:11.956411812297734%\n",
            "Epoch No.:318 training loss:0.0409061167233612  validation accuracy:12.343244336569578%\n",
            "Epoch No.:319 training loss:0.04115501599283928  validation accuracy:10.130966828478966%\n",
            "Epoch No.:320 training loss:0.040644615623980175  validation accuracy:16.914441747572813%\n",
            "Epoch No.:321 training loss:0.0432671625030911  validation accuracy:35.82119741100323%\n",
            "Epoch No.:322 training loss:0.043642283971827185  validation accuracy:18.57301779935275%\n",
            "Epoch No.:323 training loss:0.043225704421070925  validation accuracy:12.8539644012945%\n",
            "Epoch No.:324 training loss:0.04391750092574693  validation accuracy:12.323017799352751%\n",
            "Epoch No.:325 training loss:0.04055263051764143  validation accuracy:12.634000809061488%\n",
            "Epoch No.:326 training loss:0.0472237328058727  validation accuracy:25.189623786407765%\n",
            "Epoch No.:327 training loss:0.035544794064046065  validation accuracy:19.14694579288026%\n",
            "Epoch No.:328 training loss:0.03803575350154245  validation accuracy:7.9566140776699035%\n",
            "Epoch No.:329 training loss:0.042097750979309505  validation accuracy:17.72855987055016%\n",
            "Epoch No.:330 training loss:0.04274215902109085  validation accuracy:12.644114077669903%\n",
            "Epoch No.:331 training loss:0.043779526788140434  validation accuracy:14.583333333333334%\n",
            "Epoch No.:332 training loss:0.03706728896233388  validation accuracy:8.351031553398059%\n",
            "Epoch No.:333 training loss:0.04026741588283408  validation accuracy:20.383292880258903%\n",
            "Epoch No.:334 training loss:0.03967483564085787  validation accuracy:12.537924757281555%\n",
            "Epoch No.:335 training loss:0.04363824981028075  validation accuracy:7.433252427184465%\n",
            "Epoch No.:336 training loss:0.04393518605748679  validation accuracy:13.2104571197411%\n",
            "Epoch No.:337 training loss:0.038848910312056235  validation accuracy:13.164947411003237%\n",
            "Epoch No.:338 training loss:0.043259299827132884  validation accuracy:20.858616504854368%\n",
            "Epoch No.:339 training loss:0.04065178303923303  validation accuracy:22.901496763754047%\n",
            "Epoch No.:340 training loss:0.040870988758617076  validation accuracy:16.28489077669903%\n",
            "Epoch No.:341 training loss:0.0401406255923115  validation accuracy:16.348098705501616%\n",
            "Epoch No.:342 training loss:0.04385393387676677  validation accuracy:24.924150485436893%\n",
            "Epoch No.:343 training loss:0.04087166746470138  validation accuracy:20.408576051779935%\n",
            "Epoch No.:344 training loss:0.03754763988400249  validation accuracy:8.876921521035598%\n",
            "Epoch No.:345 training loss:0.04042969988301567  validation accuracy:15.973907766990292%\n",
            "Epoch No.:346 training loss:0.04341369625683333  validation accuracy:14.027103559870548%\n",
            "Epoch No.:347 training loss:0.039050000332608914  validation accuracy:14.93729773462783%\n",
            "Epoch No.:348 training loss:0.04138402167096139  validation accuracy:11.602447411003238%\n",
            "Epoch No.:349 training loss:0.04083417820240877  validation accuracy:11.541767799352751%\n",
            "Epoch No.:350 training loss:0.044778719371043656  validation accuracy:7.7366504854368925%\n",
            "Epoch No.:351 training loss:0.040115514041805696  validation accuracy:17.872673948220065%\n",
            "Epoch No.:352 training loss:0.03738215792575403  validation accuracy:15.473300970873785%\n",
            "Epoch No.:353 training loss:0.04592013072325844  validation accuracy:19.445287216828476%\n",
            "Epoch No.:354 training loss:0.03853645661528922  validation accuracy:9.48118932038835%\n",
            "Epoch No.:355 training loss:0.03900188423245875  validation accuracy:6.492718446601941%\n",
            "Epoch No.:356 training loss:0.03837307691182825  validation accuracy:11.445691747572816%\n",
            "Epoch No.:357 training loss:0.040734233550053026  validation accuracy:17.091423948220065%\n",
            "Epoch No.:358 training loss:0.04140903229005944  validation accuracy:30.691241909385113%\n",
            "Epoch No.:359 training loss:0.044651239343215535  validation accuracy:13.336872977346278%\n",
            "Epoch No.:360 training loss:0.037750057270460574  validation accuracy:20.029328478964402%\n",
            "Epoch No.:361 training loss:0.04056805526925622  validation accuracy:17.422633495145632%\n",
            "Epoch No.:362 training loss:0.03835906182808021  validation accuracy:6.907362459546926%\n",
            "Epoch No.:363 training loss:0.03897285509957928  validation accuracy:20.62348300970874%\n",
            "Epoch No.:364 training loss:0.04256360179597813  validation accuracy:12.775586569579286%\n",
            "Epoch No.:365 training loss:0.03673221414393834  validation accuracy:10.760517799352751%\n",
            "Epoch No.:366 training loss:0.04257745555011726  validation accuracy:19.457928802589%\n",
            "Epoch No.:367 training loss:0.04074020250159397  validation accuracy:9.832625404530743%\n",
            "Epoch No.:368 training loss:0.03704801941217074  validation accuracy:20.188612459546924%\n",
            "Epoch No.:369 training loss:0.03923906899092108  validation accuracy:19.14947411003236%\n",
            "Epoch No.:370 training loss:0.043010829776647226  validation accuracy:10.406553398058252%\n",
            "Epoch No.:371 training loss:0.04736208374949203  validation accuracy:14.312803398058252%\n",
            "Epoch No.:372 training loss:0.04319044258508298  validation accuracy:20.132989482200646%\n",
            "Epoch No.:373 training loss:0.03973895002454055  validation accuracy:11.764259708737864%\n",
            "Epoch No.:374 training loss:0.03781387856436886  validation accuracy:11.56957928802589%\n",
            "Epoch No.:375 training loss:0.039068055674153536  validation accuracy:16.88915857605178%\n",
            "Epoch No.:376 training loss:0.04306023861537591  validation accuracy:7.377629449838187%\n",
            "Epoch No.:377 training loss:0.043637512598179  validation accuracy:14.421521035598705%\n",
            "Epoch No.:378 training loss:0.03870850017968627  validation accuracy:10.644215210355986%\n",
            "Epoch No.:379 training loss:0.03874482579424946  validation accuracy:9.83009708737864%\n",
            "Epoch No.:380 training loss:0.0398944186428813  validation accuracy:9.749190938511326%\n",
            "Epoch No.:381 training loss:0.037902567769966915  validation accuracy:6.174150485436893%\n",
            "Epoch No.:382 training loss:0.03804822219429437  validation accuracy:4.917576860841424%\n",
            "Epoch No.:383 training loss:0.038857697660714015  validation accuracy:20.33525485436893%\n",
            "Epoch No.:384 training loss:0.03688379498179306  validation accuracy:18.186185275080906%\n",
            "Epoch No.:385 training loss:0.03907286688333756  validation accuracy:25.255360032362457%\n",
            "Epoch No.:386 training loss:0.04242935120384112  validation accuracy:7.099514563106796%\n",
            "Epoch No.:387 training loss:0.03898308356022037  validation accuracy:4.861953883495146%\n",
            "Epoch No.:388 training loss:0.041015123409514714  validation accuracy:15.458131067961164%\n",
            "Epoch No.:389 training loss:0.03934162437579598  validation accuracy:15.202771035598705%\n",
            "Epoch No.:390 training loss:0.04007430243541591  validation accuracy:24.524676375404532%\n",
            "Epoch No.:391 training loss:0.0391904938032298  validation accuracy:16.608515372168284%\n",
            "Epoch No.:392 training loss:0.04235142903862312  validation accuracy:16.042172330097088%\n",
            "Epoch No.:393 training loss:0.04039103409023743  validation accuracy:13.890574433656958%\n",
            "Epoch No.:394 training loss:0.039136691243606095  validation accuracy:15.587075242718445%\n",
            "Epoch No.:395 training loss:0.046225405372659914  validation accuracy:8.497673948220063%\n",
            "Epoch No.:396 training loss:0.0401534958686525  validation accuracy:14.826051779935275%\n",
            "Epoch No.:397 training loss:0.036746205539970093  validation accuracy:14.242010517799352%\n",
            "Epoch No.:398 training loss:0.041676812097758704  validation accuracy:6.803701456310679%\n",
            "Epoch No.:399 training loss:0.04027588607200433  validation accuracy:16.28741909385113%\n",
            "Epoch No.:400 training loss:0.03779435343948614  validation accuracy:11.799656148867314%\n",
            "Epoch No.:401 training loss:0.04060993176407695  validation accuracy:12.628944174757281%\n",
            "Epoch No.:402 training loss:0.038102945618677296  validation accuracy:18.70701860841424%\n",
            "Epoch No.:403 training loss:0.04007033359078706  validation accuracy:15.288733818770229%\n",
            "Epoch No.:404 training loss:0.039982737524191465  validation accuracy:10.593648867313917%\n",
            "Epoch No.:405 training loss:0.03680049144794306  validation accuracy:8.710052588996762%\n",
            "Epoch No.:406 training loss:0.03918023049508712  validation accuracy:9.19043284789644%\n",
            "Epoch No.:407 training loss:0.042162888484917144  validation accuracy:16.568062297734627%\n",
            "Epoch No.:408 training loss:0.03994776244730306  validation accuracy:15.680622977346278%\n",
            "Epoch No.:409 training loss:0.03551536762828  validation accuracy:22.706816343042068%\n",
            "Epoch No.:410 training loss:0.04072025166896918  validation accuracy:10.763046116504855%\n",
            "Epoch No.:411 training loss:0.04186363621659314  validation accuracy:6.351132686084143%\n",
            "Epoch No.:412 training loss:0.04357466863485679  validation accuracy:17.72097491909385%\n",
            "Epoch No.:413 training loss:0.041749773998851054  validation accuracy:10.983009708737864%\n",
            "Epoch No.:414 training loss:0.038425898682775315  validation accuracy:24.160598705501616%\n",
            "Epoch No.:415 training loss:0.04353954922064899  validation accuracy:11.607504045307444%\n",
            "Epoch No.:416 training loss:0.043182431699184474  validation accuracy:13.086569579288026%\n",
            "Epoch No.:417 training loss:0.04028125925142225  validation accuracy:16.712176375404532%\n",
            "Epoch No.:418 training loss:0.038844848947147397  validation accuracy:27.611751618122977%\n",
            "Epoch No.:419 training loss:0.03723734739493517  validation accuracy:14.032160194174756%\n",
            "Epoch No.:420 training loss:0.03905802838276314  validation accuracy:25.61185275080906%\n",
            "Epoch No.:421 training loss:0.04004486563723705  validation accuracy:23.533576051779935%\n",
            "Epoch No.:422 training loss:0.03923277091640685  validation accuracy:30.15018203883495%\n",
            "Epoch No.:423 training loss:0.03892177916061871  validation accuracy:14.201557443365695%\n",
            "Epoch No.:424 training loss:0.03695947409595877  validation accuracy:14.886731391585762%\n",
            "Epoch No.:425 training loss:0.03928716268189468  validation accuracy:3.9922127831715213%\n",
            "Epoch No.:426 training loss:0.03648421792298965  validation accuracy:19.559061488673137%\n",
            "Epoch No.:427 training loss:0.0399702173607478  validation accuracy:14.800768608414238%\n",
            "Epoch No.:428 training loss:0.03947079400227625  validation accuracy:18.823321197411%\n",
            "Epoch No.:429 training loss:0.04005556991246541  validation accuracy:8.517900485436893%\n",
            "Epoch No.:430 training loss:0.038037504857605035  validation accuracy:18.717131877022652%\n",
            "Epoch No.:431 training loss:0.04261819015723688  validation accuracy:7.395327669902913%\n",
            "Epoch No.:432 training loss:0.04110368279797214  validation accuracy:15.392394822006473%\n",
            "Epoch No.:433 training loss:0.03334515131338542  validation accuracy:14.484728964401295%\n",
            "Epoch No.:434 training loss:0.04054737276961849  validation accuracy:13.023361650485437%\n",
            "Epoch No.:435 training loss:0.041148114623308675  validation accuracy:11.559466019417476%\n",
            "Epoch No.:436 training loss:0.03996189688013565  validation accuracy:10.63915857605178%\n",
            "Epoch No.:437 training loss:0.04106374388590602  validation accuracy:17.7563713592233%\n",
            "Epoch No.:438 training loss:0.03805869551113695  validation accuracy:19.164644012944983%\n",
            "Epoch No.:439 training loss:0.04261854209457002  validation accuracy:12.750303398058252%\n",
            "Epoch No.:440 training loss:0.034920182856595865  validation accuracy:6.560983009708737%\n",
            "Epoch No.:441 training loss:0.03918901714129196  validation accuracy:16.239381067961165%\n",
            "Epoch No.:442 training loss:0.03772038165907399  validation accuracy:12.626415857605178%\n",
            "Epoch No.:443 training loss:0.03570253828775207  validation accuracy:25.93547734627832%\n",
            "Epoch No.:444 training loss:0.03929340522084192  validation accuracy:12.26486650485437%\n",
            "Epoch No.:445 training loss:0.035762594925110226  validation accuracy:16.65402508090615%\n",
            "Epoch No.:446 training loss:0.041449838054571225  validation accuracy:10.527912621359222%\n",
            "Epoch No.:447 training loss:0.03443808597473899  validation accuracy:8.82888349514563%\n",
            "Epoch No.:448 training loss:0.039485055921672695  validation accuracy:10.988066343042071%\n",
            "Epoch No.:449 training loss:0.039119900826459435  validation accuracy:20.36053802588997%\n",
            "Epoch No.:450 training loss:0.03745661264109615  validation accuracy:19.15705906148867%\n",
            "Epoch No.:451 training loss:0.040853506563515385  validation accuracy:12.231998381877023%\n",
            "Epoch No.:452 training loss:0.038077801583756024  validation accuracy:12.383697411003238%\n",
            "Epoch No.:453 training loss:0.04070150372021565  validation accuracy:20.605784789644012%\n",
            "Epoch No.:454 training loss:0.03858865081309437  validation accuracy:27.154126213592235%\n",
            "Epoch No.:455 training loss:0.04034104732298041  validation accuracy:22.64108009708738%\n",
            "Epoch No.:456 training loss:0.04037221987496026  validation accuracy:8.08302993527508%\n",
            "Epoch No.:457 training loss:0.03886848113463836  validation accuracy:23.4375%\n",
            "Epoch No.:458 training loss:0.037445907021439885  validation accuracy:17.49848300970874%\n",
            "Epoch No.:459 training loss:0.03955020649096334  validation accuracy:11.693466828478966%\n",
            "Epoch No.:460 training loss:0.038840682267093515  validation accuracy:11.95388349514563%\n",
            "Epoch No.:461 training loss:0.04058919085814768  validation accuracy:19.811893203883496%\n",
            "Epoch No.:462 training loss:0.037697479030295154  validation accuracy:13.041059870550162%\n",
            "Epoch No.:463 training loss:0.0364319122740825  validation accuracy:19.996460355987054%\n",
            "Epoch No.:464 training loss:0.039692255432999604  validation accuracy:16.611043689320386%\n",
            "Epoch No.:465 training loss:0.038343636427631146  validation accuracy:20.256877022653722%\n",
            "Epoch No.:466 training loss:0.039857640386659544  validation accuracy:10.634101941747574%\n",
            "Epoch No.:467 training loss:0.0399382109890974  validation accuracy:19.114077669902912%\n",
            "Epoch No.:468 training loss:0.04047911213160226  validation accuracy:12.285093042071198%\n",
            "Epoch No.:469 training loss:0.038157398218899595  validation accuracy:13.448118932038836%\n",
            "Epoch No.:470 training loss:0.043494577151317444  validation accuracy:18.87894417475728%\n",
            "Epoch No.:471 training loss:0.040517692327889696  validation accuracy:6.65453074433657%\n",
            "Epoch No.:472 training loss:0.03634275560483677  validation accuracy:20.762540453074436%\n",
            "Epoch No.:473 training loss:0.03958587700629576  validation accuracy:14.2040857605178%\n",
            "Epoch No.:474 training loss:0.03875654859422934  validation accuracy:20.087479773462785%\n",
            "Epoch No.:475 training loss:0.03742289920907498  validation accuracy:10.864178802588995%\n",
            "Epoch No.:476 training loss:0.03929228704467153  validation accuracy:14.049858414239482%\n",
            "Epoch No.:477 training loss:0.0381545992990805  validation accuracy:20.679105987055017%\n",
            "Epoch No.:478 training loss:0.03683720765948388  validation accuracy:17.523766181229774%\n",
            "Epoch No.:479 training loss:0.03575340287244968  validation accuracy:19.657665857605178%\n",
            "Epoch No.:480 training loss:0.0387021828736024  validation accuracy:8.244842233009708%\n",
            "Epoch No.:481 training loss:0.0406691104095406  validation accuracy:27.482807443365697%\n",
            "Epoch No.:482 training loss:0.037644660215548534  validation accuracy:26.10487459546925%\n",
            "Epoch No.:483 training loss:0.03869704739103689  validation accuracy:19.159587378640776%\n",
            "Epoch No.:484 training loss:0.03348280430295122  validation accuracy:7.094457928802589%\n",
            "Epoch No.:485 training loss:0.03936889586249015  validation accuracy:15.766585760517799%\n",
            "Epoch No.:486 training loss:0.035444743761501016  validation accuracy:10.73776294498382%\n",
            "Epoch No.:487 training loss:0.03732936685219894  validation accuracy:25.80147653721683%\n",
            "Epoch No.:488 training loss:0.04095508759132204  validation accuracy:15.498584142394822%\n",
            "Epoch No.:489 training loss:0.03786669882822055  validation accuracy:19.39977750809061%\n",
            "Epoch No.:490 training loss:0.03674132662822388  validation accuracy:8.37378640776699%\n",
            "Epoch No.:491 training loss:0.03537419107853709  validation accuracy:11.311690938511326%\n",
            "Epoch No.:492 training loss:0.03890606064510752  validation accuracy:9.218244336569578%\n",
            "Epoch No.:493 training loss:0.04259692482511161  validation accuracy:33.641788025889966%\n",
            "Epoch No.:494 training loss:0.04009337191348238  validation accuracy:6.652002427184465%\n",
            "Epoch No.:495 training loss:0.03679123273229466  validation accuracy:11.460861650485436%\n",
            "Epoch No.:496 training loss:0.03811652678701663  validation accuracy:17.020631067961165%\n",
            "Epoch No.:497 training loss:0.04095322130812154  validation accuracy:24.547431229773466%\n",
            "Epoch No.:498 training loss:0.03937463423462306  validation accuracy:6.348604368932039%\n",
            "Epoch No.:499 training loss:0.03751014954631731  validation accuracy:23.986144822006477%\n",
            "Epoch No.:500 training loss:0.03643832651389129  validation accuracy:32.15260922330097%\n"
          ],
          "name": "stdout"
        }
      ]
    },
    {
      "cell_type": "code",
      "metadata": {
        "id": "MhLs0V3TWG4z",
        "colab": {
          "base_uri": "https://localhost:8080/",
          "height": 325
        },
        "outputId": "693717c2-2118-4a98-e1e9-0189d8d0c20d"
      },
      "source": [
        "print(f'Mean Loss: {sum(t_loss)/len(t_loss):.3f}')\r\n",
        "plt.style.use('seaborn-whitegrid')\r\n",
        "\r\n",
        "fig = plt.figure()\r\n",
        "ax = plt.axes()\r\n",
        "ax.plot(t_loss,label='Training Loss')\r\n",
        "# ax.plot(v_loss,label='Validation Loss')\r\n",
        "ax.legend()\r\n",
        "ax.set_title('Training loss')\r\n",
        "ax.set_xlabel('Epochs')\r\n",
        "ax.set_ylabel('Loss')"
      ],
      "execution_count": null,
      "outputs": [
        {
          "output_type": "stream",
          "text": [
            "Mean Loss: 0.054\n"
          ],
          "name": "stdout"
        },
        {
          "output_type": "execute_result",
          "data": {
            "text/plain": [
              "Text(0, 0.5, 'Loss')"
            ]
          },
          "metadata": {
            "tags": []
          },
          "execution_count": 42
        },
        {
          "output_type": "display_data",
          "data": {
            "image/png": "[encoded data removed]",
            "text/plain": [
              "<Figure size 432x288 with 1 Axes>"
            ]
          },
          "metadata": {
            "tags": []
          }
        }
      ]
    },
    {
      "cell_type": "code",
      "metadata": {
        "id": "lYi1EigLIuAk",
        "colab": {
          "base_uri": "https://localhost:8080/",
          "height": 342
        },
        "outputId": "9475d4eb-bbda-47d1-f38c-bb8a20325919"
      },
      "source": [
        "print(f'Mean Accuracy: {sum(accuracy)/len(accuracy)*100:.3f}%')\r\n",
        "print(max(accuracy))\r\n",
        "plt.style.use('seaborn-whitegrid')\r\n",
        "fig = plt.figure()\r\n",
        "ax = plt.axes()\r\n",
        "ax.plot(accuracy,label='Validation accuracy')\r\n",
        "# ax.plot(v_loss,label='Validation Loss')\r\n",
        "ax.legend()\r\n",
        "ax.set_title('Validation Accuracy')\r\n",
        "ax.set_xlabel('Epochs')\r\n",
        "ax.set_ylabel('Accuracy')"
      ],
      "execution_count": null,
      "outputs": [
        {
          "output_type": "stream",
          "text": [
            "Mean Accuracy: 14.416%\n",
            "0.35821197411003236\n"
          ],
          "name": "stdout"
        },
        {
          "output_type": "execute_result",
          "data": {
            "text/plain": [
              "Text(0, 0.5, 'Accuracy')"
            ]
          },
          "metadata": {
            "tags": []
          },
          "execution_count": 43
        },
        {
          "output_type": "display_data",
          "data": {
            "image/png": "[encoded data removed]",
            "text/plain": [
              "<Figure size 432x288 with 1 Axes>"
            ]
          },
          "metadata": {
            "tags": []
          }
        }
      ]
    },
    {
      "cell_type": "code",
      "metadata": {
        "colab": {
          "base_uri": "https://localhost:8080/"
        },
        "id": "hmpaCmVHGct2",
        "outputId": "f694ae8e-a85b-4e59-d9fc-06db9a4644dc"
      },
      "source": [
        "# training accuracy for Omniglot\r\n",
        "\r\n",
        "device = torch.device(\"cuda\" if torch.cuda.is_available() else \"cpu\")\r\n",
        "\r\n",
        "model=Siamese_Net().to(device)\r\n",
        "checkpoint = torch.load('/content/drive/MyDrive/dataset/ckpts_newest/checkp500.pt')\r\n",
        "model.load_state_dict(checkpoint['model_state_dict'])\r\n",
        "\r\n",
        "ways=4\r\n",
        "\r\n",
        "dataset_train_acc=Face_Dataset(train_root,job='val', ways=ways,transform=transforms.Compose([transforms.Resize((105,105)),\r\n",
        "                                                            transforms.ToTensor()])\r\n",
        ")\r\n",
        "\r\n",
        "dataloader_train_acc=DataLoader(dataset=dataset_train_acc, batch_size=batch_size)\r\n",
        "\r\n",
        "# finding accuracy\r\n",
        "model.eval()\r\n",
        "with torch.no_grad():\r\n",
        "  batch_accuracy=[]\r\n",
        "  for batch_idx,images in enumerate(dataloader_train_acc):\r\n",
        "    score_l,correct=[],0\r\n",
        "    images=images.to(device)\r\n",
        "    img1=images[:,0,:]\r\n",
        "\r\n",
        "    for i in range(1,ways):\r\n",
        "      score=torch.sigmoid(model(img1,images[:,i,:]))\r\n",
        "      score_l.append(score)\r\n",
        "\r\n",
        "    scores=torch.stack(score_l)\r\n",
        "\r\n",
        "    results=torch.argmax(scores,0)\r\n",
        "\r\n",
        "    for i in range(results.shape[0]):\r\n",
        "      if results[i,:].item()==0:\r\n",
        "        correct+=1\r\n",
        "\r\n",
        "    total=images.shape[0]\r\n",
        "    batch_accuracy.append(correct/total)\r\n",
        "  print(f'Training accuracy: {sum(batch_accuracy)/len(batch_accuracy)*100:.3f}%')"
      ],
      "execution_count": null,
      "outputs": [
        {
          "output_type": "stream",
          "text": [
            "['N_Ko', 'Greek', 'Japanese_(katakana)', 'Anglo-Saxon_Futhorc', 'Futurama', 'Cyrillic', 'Burmese_(Myanmar)', 'Ojibwe_(Canadian_Aboriginal_Syllabics)', 'Hebrew', 'Grantha', 'Blackfoot_(Canadian_Aboriginal_Syllabics)', 'Malay_(Jawi_-_Arabic)', 'Mkhedruli_(Georgian)', 'Early_Aramaic', 'Inuktitut_(Canadian_Aboriginal_Syllabics)', 'Arcadian', 'Alphabet_of_the_Magi', 'Bengali', 'Gujarati', 'Balinese', 'Asomtavruli_(Georgian)', 'Braille', 'Syriac_(Estrangelo)', 'Tagalog', 'Sanskrit', 'Tifinagh', 'Latin', 'Japanese_(hiragana)', 'Korean', 'Armenian']\n",
            "Training accuracy: 58.781%\n"
          ],
          "name": "stdout"
        }
      ]
    }
  ]
}