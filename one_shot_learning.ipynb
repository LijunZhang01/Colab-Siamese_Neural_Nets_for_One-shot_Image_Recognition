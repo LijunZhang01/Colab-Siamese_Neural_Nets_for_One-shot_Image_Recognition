{
  "nbformat": 4,
  "nbformat_minor": 0,
  "metadata": {
    "colab": {
      "name": "one-shot learning",
      "provenance": [],
      "collapsed_sections": [
        "bgDIaIk03YLH",
        "QpQL3NTN1sBV",
        "6mahba0d3DYR",
        "EnRzbbbD3N6F"
      ],
      "toc_visible": true,
      "machine_shape": "hm",
      "include_colab_link": true
    },
    "kernelspec": {
      "name": "python3",
      "display_name": "Python 3"
    },
    "accelerator": "GPU",
    "widgets": {
      "application/vnd.jupyter.widget-state+json": {
        "19de642e0191473598ad303936e276dd": {
          "model_module": "@jupyter-widgets/controls",
          "model_name": "HBoxModel",
          "state": {
            "_view_name": "HBoxView",
            "_dom_classes": [],
            "_model_name": "HBoxModel",
            "_view_module": "@jupyter-widgets/controls",
            "_model_module_version": "1.5.0",
            "_view_count": null,
            "_view_module_version": "1.5.0",
            "box_style": "",
            "layout": "IPY_MODEL_5b6c0541049a4c518f7e5af9453066f3",
            "_model_module": "@jupyter-widgets/controls",
            "children": [
              "IPY_MODEL_b5f7944cd04746029283516f39be976a",
              "IPY_MODEL_4972c3f9796b4ec7a90f9f273a926b70"
            ]
          }
        },
        "5b6c0541049a4c518f7e5af9453066f3": {
          "model_module": "@jupyter-widgets/base",
          "model_name": "LayoutModel",
          "state": {
            "_view_name": "LayoutView",
            "grid_template_rows": null,
            "right": null,
            "justify_content": null,
            "_view_module": "@jupyter-widgets/base",
            "overflow": null,
            "_model_module_version": "1.2.0",
            "_view_count": null,
            "flex_flow": null,
            "width": null,
            "min_width": null,
            "border": null,
            "align_items": null,
            "bottom": null,
            "_model_module": "@jupyter-widgets/base",
            "top": null,
            "grid_column": null,
            "overflow_y": null,
            "overflow_x": null,
            "grid_auto_flow": null,
            "grid_area": null,
            "grid_template_columns": null,
            "flex": null,
            "_model_name": "LayoutModel",
            "justify_items": null,
            "grid_row": null,
            "max_height": null,
            "align_content": null,
            "visibility": null,
            "align_self": null,
            "height": null,
            "min_height": null,
            "padding": null,
            "grid_auto_rows": null,
            "grid_gap": null,
            "max_width": null,
            "order": null,
            "_view_module_version": "1.2.0",
            "grid_template_areas": null,
            "object_position": null,
            "object_fit": null,
            "grid_auto_columns": null,
            "margin": null,
            "display": null,
            "left": null
          }
        },
        "b5f7944cd04746029283516f39be976a": {
          "model_module": "@jupyter-widgets/controls",
          "model_name": "FloatProgressModel",
          "state": {
            "_view_name": "ProgressView",
            "style": "IPY_MODEL_581b0a5c025441018660e59d33c66f52",
            "_dom_classes": [],
            "description": "",
            "_model_name": "FloatProgressModel",
            "bar_style": "success",
            "max": 1,
            "_view_module": "@jupyter-widgets/controls",
            "_model_module_version": "1.5.0",
            "value": 1,
            "_view_count": null,
            "_view_module_version": "1.5.0",
            "orientation": "horizontal",
            "min": 0,
            "description_tooltip": null,
            "_model_module": "@jupyter-widgets/controls",
            "layout": "IPY_MODEL_a26a344e3dd34113962c2e04aad26f89"
          }
        },
        "4972c3f9796b4ec7a90f9f273a926b70": {
          "model_module": "@jupyter-widgets/controls",
          "model_name": "HTMLModel",
          "state": {
            "_view_name": "HTMLView",
            "style": "IPY_MODEL_e9f8c7fd6a7440a1856b56f09fc42adc",
            "_dom_classes": [],
            "description": "",
            "_model_name": "HTMLModel",
            "placeholder": "​",
            "_view_module": "@jupyter-widgets/controls",
            "_model_module_version": "1.5.0",
            "value": " 9469952/? [00:01&lt;00:00, 5170208.45it/s]",
            "_view_count": null,
            "_view_module_version": "1.5.0",
            "description_tooltip": null,
            "_model_module": "@jupyter-widgets/controls",
            "layout": "IPY_MODEL_afeccea2faab4ffbae8060d77bb4dcfe"
          }
        },
        "581b0a5c025441018660e59d33c66f52": {
          "model_module": "@jupyter-widgets/controls",
          "model_name": "ProgressStyleModel",
          "state": {
            "_view_name": "StyleView",
            "_model_name": "ProgressStyleModel",
            "description_width": "initial",
            "_view_module": "@jupyter-widgets/base",
            "_model_module_version": "1.5.0",
            "_view_count": null,
            "_view_module_version": "1.2.0",
            "bar_color": null,
            "_model_module": "@jupyter-widgets/controls"
          }
        },
        "a26a344e3dd34113962c2e04aad26f89": {
          "model_module": "@jupyter-widgets/base",
          "model_name": "LayoutModel",
          "state": {
            "_view_name": "LayoutView",
            "grid_template_rows": null,
            "right": null,
            "justify_content": null,
            "_view_module": "@jupyter-widgets/base",
            "overflow": null,
            "_model_module_version": "1.2.0",
            "_view_count": null,
            "flex_flow": null,
            "width": null,
            "min_width": null,
            "border": null,
            "align_items": null,
            "bottom": null,
            "_model_module": "@jupyter-widgets/base",
            "top": null,
            "grid_column": null,
            "overflow_y": null,
            "overflow_x": null,
            "grid_auto_flow": null,
            "grid_area": null,
            "grid_template_columns": null,
            "flex": null,
            "_model_name": "LayoutModel",
            "justify_items": null,
            "grid_row": null,
            "max_height": null,
            "align_content": null,
            "visibility": null,
            "align_self": null,
            "height": null,
            "min_height": null,
            "padding": null,
            "grid_auto_rows": null,
            "grid_gap": null,
            "max_width": null,
            "order": null,
            "_view_module_version": "1.2.0",
            "grid_template_areas": null,
            "object_position": null,
            "object_fit": null,
            "grid_auto_columns": null,
            "margin": null,
            "display": null,
            "left": null
          }
        },
        "e9f8c7fd6a7440a1856b56f09fc42adc": {
          "model_module": "@jupyter-widgets/controls",
          "model_name": "DescriptionStyleModel",
          "state": {
            "_view_name": "StyleView",
            "_model_name": "DescriptionStyleModel",
            "description_width": "",
            "_view_module": "@jupyter-widgets/base",
            "_model_module_version": "1.5.0",
            "_view_count": null,
            "_view_module_version": "1.2.0",
            "_model_module": "@jupyter-widgets/controls"
          }
        },
        "afeccea2faab4ffbae8060d77bb4dcfe": {
          "model_module": "@jupyter-widgets/base",
          "model_name": "LayoutModel",
          "state": {
            "_view_name": "LayoutView",
            "grid_template_rows": null,
            "right": null,
            "justify_content": null,
            "_view_module": "@jupyter-widgets/base",
            "overflow": null,
            "_model_module_version": "1.2.0",
            "_view_count": null,
            "flex_flow": null,
            "width": null,
            "min_width": null,
            "border": null,
            "align_items": null,
            "bottom": null,
            "_model_module": "@jupyter-widgets/base",
            "top": null,
            "grid_column": null,
            "overflow_y": null,
            "overflow_x": null,
            "grid_auto_flow": null,
            "grid_area": null,
            "grid_template_columns": null,
            "flex": null,
            "_model_name": "LayoutModel",
            "justify_items": null,
            "grid_row": null,
            "max_height": null,
            "align_content": null,
            "visibility": null,
            "align_self": null,
            "height": null,
            "min_height": null,
            "padding": null,
            "grid_auto_rows": null,
            "grid_gap": null,
            "max_width": null,
            "order": null,
            "_view_module_version": "1.2.0",
            "grid_template_areas": null,
            "object_position": null,
            "object_fit": null,
            "grid_auto_columns": null,
            "margin": null,
            "display": null,
            "left": null
          }
        },
        "e6772480f84e43aa9b5579c2943edaa2": {
          "model_module": "@jupyter-widgets/controls",
          "model_name": "HBoxModel",
          "state": {
            "_view_name": "HBoxView",
            "_dom_classes": [],
            "_model_name": "HBoxModel",
            "_view_module": "@jupyter-widgets/controls",
            "_model_module_version": "1.5.0",
            "_view_count": null,
            "_view_module_version": "1.5.0",
            "box_style": "",
            "layout": "IPY_MODEL_1b4c985a605c430890e326cc5b9c1a70",
            "_model_module": "@jupyter-widgets/controls",
            "children": [
              "IPY_MODEL_7ed16c3c8423469c85b80d9b11064ad6",
              "IPY_MODEL_2f74ecffa5834138a19f8476c5f1d4be"
            ]
          }
        },
        "1b4c985a605c430890e326cc5b9c1a70": {
          "model_module": "@jupyter-widgets/base",
          "model_name": "LayoutModel",
          "state": {
            "_view_name": "LayoutView",
            "grid_template_rows": null,
            "right": null,
            "justify_content": null,
            "_view_module": "@jupyter-widgets/base",
            "overflow": null,
            "_model_module_version": "1.2.0",
            "_view_count": null,
            "flex_flow": null,
            "width": null,
            "min_width": null,
            "border": null,
            "align_items": null,
            "bottom": null,
            "_model_module": "@jupyter-widgets/base",
            "top": null,
            "grid_column": null,
            "overflow_y": null,
            "overflow_x": null,
            "grid_auto_flow": null,
            "grid_area": null,
            "grid_template_columns": null,
            "flex": null,
            "_model_name": "LayoutModel",
            "justify_items": null,
            "grid_row": null,
            "max_height": null,
            "align_content": null,
            "visibility": null,
            "align_self": null,
            "height": null,
            "min_height": null,
            "padding": null,
            "grid_auto_rows": null,
            "grid_gap": null,
            "max_width": null,
            "order": null,
            "_view_module_version": "1.2.0",
            "grid_template_areas": null,
            "object_position": null,
            "object_fit": null,
            "grid_auto_columns": null,
            "margin": null,
            "display": null,
            "left": null
          }
        },
        "7ed16c3c8423469c85b80d9b11064ad6": {
          "model_module": "@jupyter-widgets/controls",
          "model_name": "FloatProgressModel",
          "state": {
            "_view_name": "ProgressView",
            "style": "IPY_MODEL_bd4b1917bafd4030a8c133d0e948984e",
            "_dom_classes": [],
            "description": "",
            "_model_name": "FloatProgressModel",
            "bar_style": "success",
            "max": 1,
            "_view_module": "@jupyter-widgets/controls",
            "_model_module_version": "1.5.0",
            "value": 1,
            "_view_count": null,
            "_view_module_version": "1.5.0",
            "orientation": "horizontal",
            "min": 0,
            "description_tooltip": null,
            "_model_module": "@jupyter-widgets/controls",
            "layout": "IPY_MODEL_79f8e6c1642b405db59ac964e45e78e0"
          }
        },
        "2f74ecffa5834138a19f8476c5f1d4be": {
          "model_module": "@jupyter-widgets/controls",
          "model_name": "HTMLModel",
          "state": {
            "_view_name": "HTMLView",
            "style": "IPY_MODEL_76acab759d434bab9d7a4b40d542d2b0",
            "_dom_classes": [],
            "description": "",
            "_model_name": "HTMLModel",
            "placeholder": "​",
            "_view_module": "@jupyter-widgets/controls",
            "_model_module_version": "1.5.0",
            "value": " 6463488/? [00:01&lt;00:00, 5142445.98it/s]",
            "_view_count": null,
            "_view_module_version": "1.5.0",
            "description_tooltip": null,
            "_model_module": "@jupyter-widgets/controls",
            "layout": "IPY_MODEL_8770833937bf4214b2239d8bdd7822e0"
          }
        },
        "bd4b1917bafd4030a8c133d0e948984e": {
          "model_module": "@jupyter-widgets/controls",
          "model_name": "ProgressStyleModel",
          "state": {
            "_view_name": "StyleView",
            "_model_name": "ProgressStyleModel",
            "description_width": "initial",
            "_view_module": "@jupyter-widgets/base",
            "_model_module_version": "1.5.0",
            "_view_count": null,
            "_view_module_version": "1.2.0",
            "bar_color": null,
            "_model_module": "@jupyter-widgets/controls"
          }
        },
        "79f8e6c1642b405db59ac964e45e78e0": {
          "model_module": "@jupyter-widgets/base",
          "model_name": "LayoutModel",
          "state": {
            "_view_name": "LayoutView",
            "grid_template_rows": null,
            "right": null,
            "justify_content": null,
            "_view_module": "@jupyter-widgets/base",
            "overflow": null,
            "_model_module_version": "1.2.0",
            "_view_count": null,
            "flex_flow": null,
            "width": null,
            "min_width": null,
            "border": null,
            "align_items": null,
            "bottom": null,
            "_model_module": "@jupyter-widgets/base",
            "top": null,
            "grid_column": null,
            "overflow_y": null,
            "overflow_x": null,
            "grid_auto_flow": null,
            "grid_area": null,
            "grid_template_columns": null,
            "flex": null,
            "_model_name": "LayoutModel",
            "justify_items": null,
            "grid_row": null,
            "max_height": null,
            "align_content": null,
            "visibility": null,
            "align_self": null,
            "height": null,
            "min_height": null,
            "padding": null,
            "grid_auto_rows": null,
            "grid_gap": null,
            "max_width": null,
            "order": null,
            "_view_module_version": "1.2.0",
            "grid_template_areas": null,
            "object_position": null,
            "object_fit": null,
            "grid_auto_columns": null,
            "margin": null,
            "display": null,
            "left": null
          }
        },
        "76acab759d434bab9d7a4b40d542d2b0": {
          "model_module": "@jupyter-widgets/controls",
          "model_name": "DescriptionStyleModel",
          "state": {
            "_view_name": "StyleView",
            "_model_name": "DescriptionStyleModel",
            "description_width": "",
            "_view_module": "@jupyter-widgets/base",
            "_model_module_version": "1.5.0",
            "_view_count": null,
            "_view_module_version": "1.2.0",
            "_model_module": "@jupyter-widgets/controls"
          }
        },
        "8770833937bf4214b2239d8bdd7822e0": {
          "model_module": "@jupyter-widgets/base",
          "model_name": "LayoutModel",
          "state": {
            "_view_name": "LayoutView",
            "grid_template_rows": null,
            "right": null,
            "justify_content": null,
            "_view_module": "@jupyter-widgets/base",
            "overflow": null,
            "_model_module_version": "1.2.0",
            "_view_count": null,
            "flex_flow": null,
            "width": null,
            "min_width": null,
            "border": null,
            "align_items": null,
            "bottom": null,
            "_model_module": "@jupyter-widgets/base",
            "top": null,
            "grid_column": null,
            "overflow_y": null,
            "overflow_x": null,
            "grid_auto_flow": null,
            "grid_area": null,
            "grid_template_columns": null,
            "flex": null,
            "_model_name": "LayoutModel",
            "justify_items": null,
            "grid_row": null,
            "max_height": null,
            "align_content": null,
            "visibility": null,
            "align_self": null,
            "height": null,
            "min_height": null,
            "padding": null,
            "grid_auto_rows": null,
            "grid_gap": null,
            "max_width": null,
            "order": null,
            "_view_module_version": "1.2.0",
            "grid_template_areas": null,
            "object_position": null,
            "object_fit": null,
            "grid_auto_columns": null,
            "margin": null,
            "display": null,
            "left": null
          }
        }
      }
    }
  },
  "cells": [
    {
      "cell_type": "markdown",
      "metadata": {
        "id": "view-in-github",
        "colab_type": "text"
      },
      "source": [
        "<a href=\"https://colab.research.google.com/github/myjaa/Colab-Siamese_Neural_Nets_for_One-shot_Image_Recognition/blob/main/one_shot_learning.ipynb\" target=\"_parent\"><img src=\"https://colab.research.google.com/assets/colab-badge.svg\" alt=\"Open In Colab\"/></a>"
      ]
    },
    {
      "cell_type": "code",
      "metadata": {
        "id": "xWKGvKjDHpmP",
        "colab": {
          "base_uri": "https://localhost:8080/"
        },
        "outputId": "73011c65-efc8-4837-990f-f9a614942a68"
      },
      "source": [
        "!nvidia-smi"
      ],
      "execution_count": null,
      "outputs": [
        {
          "output_type": "stream",
          "text": [
            "Tue Feb  2 10:27:29 2021       \n",
            "+-----------------------------------------------------------------------------+\n",
            "| NVIDIA-SMI 460.32.03    Driver Version: 418.67       CUDA Version: 10.1     |\n",
            "|-------------------------------+----------------------+----------------------+\n",
            "| GPU  Name        Persistence-M| Bus-Id        Disp.A | Volatile Uncorr. ECC |\n",
            "| Fan  Temp  Perf  Pwr:Usage/Cap|         Memory-Usage | GPU-Util  Compute M. |\n",
            "|                               |                      |               MIG M. |\n",
            "|===============================+======================+======================|\n",
            "|   0  Tesla V100-SXM2...  Off  | 00000000:00:04.0 Off |                    0 |\n",
            "| N/A   31C    P0    25W / 300W |      0MiB / 16130MiB |      0%      Default |\n",
            "|                               |                      |                 ERR! |\n",
            "+-------------------------------+----------------------+----------------------+\n",
            "                                                                               \n",
            "+-----------------------------------------------------------------------------+\n",
            "| Processes:                                                                  |\n",
            "|  GPU   GI   CI        PID   Type   Process name                  GPU Memory |\n",
            "|        ID   ID                                                   Usage      |\n",
            "|=============================================================================|\n",
            "|  No running processes found                                                 |\n",
            "+-----------------------------------------------------------------------------+\n"
          ],
          "name": "stdout"
        }
      ]
    },
    {
      "cell_type": "code",
      "metadata": {
        "colab": {
          "base_uri": "https://localhost:8080/"
        },
        "id": "p2mKLb6VSRNG",
        "outputId": "cea9a67e-ffec-4798-dc0f-32d1b8862f23"
      },
      "source": [
        "from google.colab import drive\n",
        "drive.mount('/content/drive')"
      ],
      "execution_count": null,
      "outputs": [
        {
          "output_type": "stream",
          "text": [
            "Mounted at /content/drive\n"
          ],
          "name": "stdout"
        }
      ]
    },
    {
      "cell_type": "code",
      "metadata": {
        "id": "16o1iKYCMNwA"
      },
      "source": [
        "import torch\r\n",
        "import torch.nn as nn\r\n",
        "import torch.nn.functional as F\r\n",
        "from torch.utils.data import Dataset, DataLoader, random_split\r\n",
        "from torchvision import transforms, utils, datasets\r\n",
        "import torch.optim as optim\r\n",
        "\r\n",
        "import numpy as np\r\n",
        "from PIL import Image\r\n",
        "import os\r\n",
        "from tqdm import tqdm\r\n",
        "import random\r\n",
        "import matplotlib.pyplot as plt"
      ],
      "execution_count": null,
      "outputs": []
    },
    {
      "cell_type": "code",
      "metadata": {
        "id": "ee-EiMbAsWO-"
      },
      "source": [
        "celebA=datasets.CelebA(root='/content', \r\n",
        "                       split= 'train', \r\n",
        "                       target_type = 'identity', \r\n",
        "                       download = True\r\n",
        "                       )"
      ],
      "execution_count": null,
      "outputs": []
    },
    {
      "cell_type": "code",
      "metadata": {
        "colab": {
          "base_uri": "https://localhost:8080/"
        },
        "id": "_rWPYW31YWNk",
        "outputId": "2af452c3-56f3-4e63-9456-b231a4ea67e8"
      },
      "source": [
        "print(torch.__version__)"
      ],
      "execution_count": null,
      "outputs": [
        {
          "output_type": "stream",
          "text": [
            "1.7.0+cu101\n"
          ],
          "name": "stdout"
        }
      ]
    },
    {
      "cell_type": "markdown",
      "metadata": {
        "id": "g8Vppu7kKRwr"
      },
      "source": [
        "# **Model**"
      ]
    },
    {
      "cell_type": "code",
      "metadata": {
        "id": "XATrJAOhNJas"
      },
      "source": [
        "# Model\r\n",
        "class Siamese_Net(nn.Module):\r\n",
        "  def __init__(self):\r\n",
        "    super(Siamese_Net,self).__init__()\r\n",
        "\r\n",
        "    self.conv1=nn.Conv2d(1,64,10)\r\n",
        "    self.conv2=nn.Conv2d(64,128,7)\r\n",
        "    self.conv3=nn.Conv2d(128,128,4)\r\n",
        "    self.conv4=nn.Conv2d(128,256,4)\r\n",
        "\r\n",
        "    self.Linear1=nn.Linear(9216,4096)\r\n",
        "    self.flatten=nn.Flatten()\r\n",
        "    self.Linear2=nn.Linear(4096,1)\r\n",
        "\r\n",
        "    self.relu=nn.ReLU()\r\n",
        "    self.maxP=nn.MaxPool2d(2)\r\n",
        "    self.sigm=nn.Sigmoid()\r\n",
        "\r\n",
        "    # self.initialize_weights()\r\n",
        "\r\n",
        "  def twin(self,x):\r\n",
        "\r\n",
        "    out=self.conv1(x)\r\n",
        "    out=self.relu(out)\r\n",
        "    out=self.maxP(out)\r\n",
        "\r\n",
        "    out=self.conv2(out)\r\n",
        "    out=self.relu(out)\r\n",
        "    out=self.maxP(out)\r\n",
        "\r\n",
        "    out=self.conv3(out)\r\n",
        "    out=self.relu(out)\r\n",
        "    out=self.maxP(out)\r\n",
        "\r\n",
        "    out=self.conv4(out)\r\n",
        "    out=self.relu(out)\r\n",
        "\r\n",
        "    # test=out.view(out.size()[0], -1)\r\n",
        "    out=self.flatten(out)\r\n",
        "    # print(test==out) ##result -> true\r\n",
        "\r\n",
        "    out=self.Linear1(out)\r\n",
        "    out=self.sigm(out)\r\n",
        "\r\n",
        "    return out\r\n",
        "\r\n",
        "  def forward(self,x1,x2):\r\n",
        "\r\n",
        "    x1_out=self.twin(x1)\r\n",
        "    x2_out=self.twin(x2)\r\n",
        "\r\n",
        "    # score= linear(distance between vectors)\r\n",
        "    score=self.Linear2(torch.abs(x1_out-x2_out))\r\n",
        "\r\n",
        "    # print(score)\r\n",
        "    \r\n",
        "    return score\r\n",
        "\r\n",
        "  def initialize_weights(self):\r\n",
        "    for m in self.modules():\r\n",
        "      if isinstance(m,nn.Conv2d):\r\n",
        "        nn.init.normal_(m.weight,0,1e-2)\r\n",
        "        nn.init.normal_(m.bias, 0.5, 1e-2)\r\n",
        "      if isinstance(m,nn.Linear):\r\n",
        "        nn.init.normal_(m.weight,0,2e-2)\r\n",
        "        nn.init.normal_(m.bias, 0.5, 1e-2)\r\n",
        "\r\n"
      ],
      "execution_count": null,
      "outputs": []
    },
    {
      "cell_type": "code",
      "metadata": {
        "colab": {
          "base_uri": "https://localhost:8080/"
        },
        "id": "BfSlk9mUYTnz",
        "outputId": "7333a8bb-d15f-4247-9030-bff602d85046"
      },
      "source": [
        "#testing\r\n",
        "net=Siamese_Net()\r\n",
        "# print(net)\r\n",
        "dummyx1=torch.randn(64,1,105,105)\r\n",
        "dummyx2=torch.randn(64,1,105,105)\r\n",
        "o=net(dummyx1,dummyx2)\r\n",
        "print(o.shape)"
      ],
      "execution_count": null,
      "outputs": [
        {
          "output_type": "stream",
          "text": [
            "torch.Size([64, 1])\n"
          ],
          "name": "stdout"
        }
      ]
    },
    {
      "cell_type": "markdown",
      "metadata": {
        "id": "bgDIaIk03YLH"
      },
      "source": [
        "# Face Dataset"
      ]
    },
    {
      "cell_type": "code",
      "metadata": {
        "id": "HS-OuFIDaaeD"
      },
      "source": [
        "# Main Dataset\r\n",
        "class Face_Dataset(Dataset):\r\n",
        "  def __init__(self,root_dir, job='train',transform=None):\r\n",
        "    super(Face_Dataset,self).__init__()\r\n",
        "    self.root_dir=root_dir\r\n",
        "    self.job=job\r\n",
        "    self.all_classes=os.listdir(os.path.join(root_dir,job))\r\n",
        "    self.num_classes=len(self.all_classes)\r\n",
        "    self.face_list, self.number_of_faces=self.get_face_list()\r\n",
        "    self.transform=transform\r\n",
        "    print(self.all_classes)\r\n",
        "\r\n",
        "  def __len__(self):\r\n",
        "    return self.number_of_faces\r\n",
        "\r\n",
        "  def __getitem__(self,idx):\r\n",
        "    if self.job=='train':\r\n",
        "      is_Same=1\r\n",
        "      # Same person if even\r\n",
        "      if idx%2==0:\r\n",
        "        path_img_1,path_img_2,_=self.get_same()\r\n",
        "      # different people \r\n",
        "      else:\r\n",
        "        is_Same=0\r\n",
        "        path_img_1,path_img_2=self.get_different()\r\n",
        "\r\n",
        "      img1=Image.open(path_img_1).convert('L')\r\n",
        "      img2=Image.open(path_img_2).convert('L')\r\n",
        "      \r\n",
        "      if self.transform:\r\n",
        "        img1=self.transform(img1)\r\n",
        "        img2=self.transform(img2)\r\n",
        "\r\n",
        "      # return img1,img2,torch.from_numpy(np.array([is_Same], dtype=np.float32))\r\n",
        "      return img1,img2,torch.tensor([is_Same], dtype=torch.float32)\r\n",
        "\r\n",
        "    else:\r\n",
        "      # grab two images from the same class\r\n",
        "      path_img_1,path_img_2,id_to_avoid=self.get_same()\r\n",
        "      # and two from different classes\r\n",
        "      path_img_3,path_img_4=self.get_different(id_to_avoid)\r\n",
        "\r\n",
        "      img1=Image.open(path_img_1).convert('L')\r\n",
        "      img2=Image.open(path_img_2).convert('L')\r\n",
        "      img3=Image.open(path_img_3).convert('L')\r\n",
        "      img4=Image.open(path_img_4).convert('L')\r\n",
        "\r\n",
        "      if self.transform:\r\n",
        "        img1=self.transform(img1)\r\n",
        "        img2=self.transform(img2)\r\n",
        "        img3=self.transform(img3)\r\n",
        "        img4=self.transform(img4)\r\n",
        "\r\n",
        "      return img1, img2, img3, img4\r\n",
        "\r\n",
        "  def get_face_list(self) -> (dict, int):\r\n",
        "      f_list,n_faces={},0\r\n",
        "      for idx, person in enumerate(self.all_classes):\r\n",
        "        f_list[idx]=[]\r\n",
        "        for face in os.listdir(os.path.join(self.root_dir,self.job,person)):\r\n",
        "          f_list[idx].append(os.path.join(self.root_dir,self.job,person,face))\r\n",
        "          n_faces+=1\r\n",
        "      return f_list,n_faces\r\n",
        "\r\n",
        "  def get_same(self) -> (str, str, int):\r\n",
        "    person_id=random.randint(0,self.num_classes-1)\r\n",
        "    path_img_1=random.choice(self.face_list[person_id])\r\n",
        "    path_img_2=random.choice(self.face_list[person_id])\r\n",
        "    return path_img_1,path_img_2,person_id\r\n",
        "\r\n",
        "  def get_different(self, avoid=None)-> (str, str):\r\n",
        "    person_id_1=random.randint(0,self.num_classes-1)\r\n",
        "    \r\n",
        "    while person_id_1==avoid:\r\n",
        "      person_id_1=random.randint(0,self.num_classes-1)\r\n",
        "\r\n",
        "    person_id_2=random.randint(0,self.num_classes-1)\r\n",
        "    while person_id_2==person_id_1 or person_id_2==avoid:\r\n",
        "      person_id_2=random.randint(0,self.num_classes-1)\r\n",
        "\r\n",
        "    path_img_1=random.choice(self.face_list[person_id_1])\r\n",
        "    path_img_2=random.choice(self.face_list[person_id_2])\r\n",
        "    return path_img_1,path_img_2\r\n",
        "      "
      ],
      "execution_count": null,
      "outputs": []
    },
    {
      "cell_type": "markdown",
      "metadata": {
        "id": "QpQL3NTN1sBV"
      },
      "source": [
        "# **Omniglot Dataset**"
      ]
    },
    {
      "cell_type": "code",
      "metadata": {
        "colab": {
          "base_uri": "https://localhost:8080/",
          "referenced_widgets": [
            "19de642e0191473598ad303936e276dd",
            "5b6c0541049a4c518f7e5af9453066f3",
            "b5f7944cd04746029283516f39be976a",
            "4972c3f9796b4ec7a90f9f273a926b70",
            "581b0a5c025441018660e59d33c66f52",
            "a26a344e3dd34113962c2e04aad26f89",
            "e9f8c7fd6a7440a1856b56f09fc42adc",
            "afeccea2faab4ffbae8060d77bb4dcfe",
            "e6772480f84e43aa9b5579c2943edaa2",
            "1b4c985a605c430890e326cc5b9c1a70",
            "7ed16c3c8423469c85b80d9b11064ad6",
            "2f74ecffa5834138a19f8476c5f1d4be",
            "bd4b1917bafd4030a8c133d0e948984e",
            "79f8e6c1642b405db59ac964e45e78e0",
            "76acab759d434bab9d7a4b40d542d2b0",
            "8770833937bf4214b2239d8bdd7822e0"
          ]
        },
        "id": "jdcAQouHqIT3",
        "outputId": "3a9035fc-771e-490c-d232-4b9839b13921"
      },
      "source": [
        "# download the dataset\r\n",
        "omni_train=datasets.Omniglot(root='/content', \r\n",
        "                       background= True,  \r\n",
        "                       download = True\r\n",
        "                       )\r\n",
        "\r\n",
        "omni_test=datasets.Omniglot(root='/content', \r\n",
        "                       background= False,  \r\n",
        "                       download = True\r\n",
        "                       )"
      ],
      "execution_count": null,
      "outputs": [
        {
          "output_type": "stream",
          "text": [
            "Downloading https://github.com/brendenlake/omniglot/raw/master/python/images_background.zip to /content/omniglot-py/images_background.zip\n"
          ],
          "name": "stdout"
        },
        {
          "output_type": "display_data",
          "data": {
            "application/vnd.jupyter.widget-view+json": {
              "model_id": "19de642e0191473598ad303936e276dd",
              "version_minor": 0,
              "version_major": 2
            },
            "text/plain": [
              "HBox(children=(FloatProgress(value=1.0, bar_style='info', max=1.0), HTML(value='')))"
            ]
          },
          "metadata": {
            "tags": []
          }
        },
        {
          "output_type": "stream",
          "text": [
            "Extracting /content/omniglot-py/images_background.zip to /content/omniglot-py\n",
            "\n",
            "Downloading https://github.com/brendenlake/omniglot/raw/master/python/images_evaluation.zip to /content/omniglot-py/images_evaluation.zip\n"
          ],
          "name": "stdout"
        },
        {
          "output_type": "display_data",
          "data": {
            "application/vnd.jupyter.widget-view+json": {
              "model_id": "e6772480f84e43aa9b5579c2943edaa2",
              "version_minor": 0,
              "version_major": 2
            },
            "text/plain": [
              "HBox(children=(FloatProgress(value=1.0, bar_style='info', max=1.0), HTML(value='')))"
            ]
          },
          "metadata": {
            "tags": []
          }
        },
        {
          "output_type": "stream",
          "text": [
            "Extracting /content/omniglot-py/images_evaluation.zip to /content/omniglot-py\n",
            "\n"
          ],
          "name": "stdout"
        }
      ]
    },
    {
      "cell_type": "code",
      "metadata": {
        "id": "QXMNU4dOu6uu"
      },
      "source": [
        "# Omniglot dataset- didnt rename cause would have had to rename it everywhere\r\n",
        "class Face_Dataset(Dataset):\r\n",
        "  def __init__(self,root_dir, job='train',transform=None):\r\n",
        "    super(Face_Dataset,self).__init__()\r\n",
        "    self.root_dir=root_dir\r\n",
        "    self.job=job\r\n",
        "    self.all_classes=os.listdir(root_dir)\r\n",
        "    self.num_classes=len(self.all_classes)\r\n",
        "    self.face_list, self.number_of_faces=self.get_char_list()\r\n",
        "    self.transform=transform\r\n",
        "    print(self.all_classes)\r\n",
        "\r\n",
        "  def __len__(self):\r\n",
        "    return self.number_of_faces\r\n",
        "\r\n",
        "  def __getitem__(self,idx):\r\n",
        "    if self.job=='train':\r\n",
        "      is_Same=1\r\n",
        "      # Same person if even\r\n",
        "      if idx%2==0:\r\n",
        "        path_img_1,path_img_2,_=self.get_same()\r\n",
        "      # different people \r\n",
        "      else:\r\n",
        "        is_Same=0\r\n",
        "        path_img_1,path_img_2=self.get_different()\r\n",
        "\r\n",
        "      img1=Image.open(path_img_1).convert('L')\r\n",
        "      img2=Image.open(path_img_2).convert('L')\r\n",
        "      \r\n",
        "      if self.transform:\r\n",
        "        img1=self.transform(img1)\r\n",
        "        img2=self.transform(img2)\r\n",
        "\r\n",
        "      # return img1,img2,torch.from_numpy(np.array([is_Same], dtype=np.float32))\r\n",
        "      return img1,img2,torch.tensor([is_Same], dtype=torch.float32)\r\n",
        "\r\n",
        "    else:\r\n",
        "      # grab two images from the same class\r\n",
        "      path_img_1,path_img_2,id_to_avoid=self.get_same()\r\n",
        "      # and two from different classes\r\n",
        "      path_img_3,path_img_4=self.get_different(id_to_avoid)\r\n",
        "\r\n",
        "      img1=Image.open(path_img_1).convert('L')\r\n",
        "      img2=Image.open(path_img_2).convert('L')\r\n",
        "      img3=Image.open(path_img_3).convert('L')\r\n",
        "      img4=Image.open(path_img_4).convert('L')\r\n",
        "\r\n",
        "      if self.transform:\r\n",
        "        img1=self.transform(img1)\r\n",
        "        img2=self.transform(img2)\r\n",
        "        img3=self.transform(img3)\r\n",
        "        img4=self.transform(img4)\r\n",
        "\r\n",
        "      return img1, img2, img3, img4\r\n",
        "\r\n",
        "  def get_char_list(self) -> (dict, int):\r\n",
        "      a_list,n_letters={},0\r\n",
        "      for idx, alpha in enumerate(self.all_classes):\r\n",
        "        a_list[idx]=[]\r\n",
        "        for char in os.listdir(os.path.join(self.root_dir,alpha)):\r\n",
        "          l_list=[]\r\n",
        "          for letter in os.listdir(os.path.join(self.root_dir,alpha,char)):\r\n",
        "            l_list.append(os.path.join(self.root_dir,alpha,char,letter))\r\n",
        "            n_letters+=1\r\n",
        "          a_list[idx].append(l_list)\r\n",
        "      return a_list,n_letters\r\n",
        "\r\n",
        "  def get_same(self) -> (str, str, int):\r\n",
        "    alpha_id=random.randint(0,self.num_classes-1)\r\n",
        "    char_id=random.randint(0,len(self.face_list[alpha_id])-1)\r\n",
        "    path_img_1=random.choice(self.face_list[alpha_id][char_id])\r\n",
        "    path_img_2=random.choice(self.face_list[alpha_id][char_id])\r\n",
        "    return path_img_1,path_img_2,char_id\r\n",
        "\r\n",
        "  def get_different(self, avoid=None)-> (str, str):\r\n",
        "\r\n",
        "    alpha_id_1=random.randint(0,self.num_classes-1)\r\n",
        "    char_id_1=random.randint(0,len(self.face_list[alpha_id_1])-1)\r\n",
        "    while char_id_1==avoid:\r\n",
        "      char_id_1=random.randint(0,len(self.face_list[alpha_id_1])-1)\r\n",
        "\r\n",
        "    alpha_id_2=random.randint(0,self.num_classes-1)\r\n",
        "    char_id_2=random.randint(0,len(self.face_list[alpha_id_2])-1)\r\n",
        "    while char_id_2==char_id_1 or char_id_2==avoid:\r\n",
        "      char_id_2=random.randint(0,len(self.face_list[alpha_id_2])-1)\r\n",
        "\r\n",
        "    path_img_1=random.choice(self.face_list[alpha_id_1][char_id_1])\r\n",
        "    path_img_2=random.choice(self.face_list[alpha_id_2][char_id_2])\r\n",
        "    return path_img_1,path_img_2\r\n",
        "      "
      ],
      "execution_count": null,
      "outputs": []
    },
    {
      "cell_type": "code",
      "metadata": {
        "id": "59Qc59pc2FDS"
      },
      "source": [
        "# omniglot root\r\n",
        "train_root='/content/omniglot-py/images_background'\r\n",
        "val_root='/content/omniglot-py/images_evaluation'\r\n",
        "batch_size=16"
      ],
      "execution_count": null,
      "outputs": []
    },
    {
      "cell_type": "code",
      "metadata": {
        "colab": {
          "base_uri": "https://localhost:8080/"
        },
        "id": "S7csByFqFzmp",
        "outputId": "af52b708-8b24-4648-8abb-8772194c5411"
      },
      "source": [
        "# Omniglot Calculating the mean and std of the data\r\n",
        "\r\n",
        "def find_mean_std(to_be_norm_dataset, batch_s=1):\r\n",
        "  to_norm_loader=DataLoader(dataset=to_be_norm_dataset, batch_size=batch_s)\r\n",
        "  print('Total number of samples: ', len(to_be_norm_dataset))\r\n",
        "\r\n",
        "  # #run for 1 batch \r\n",
        "  # data_iter=iter(to_norm_loader)\r\n",
        "  # img,_,__=data_iter.next()\r\n",
        "  # print(img.shape)\r\n",
        "  \r\n",
        "  channels_sum, channels_squared_sum, num_batches=0, 0, 0\r\n",
        "  for img,_,__ in to_norm_loader:\r\n",
        "    # print(img.shape)#[batch,C,H,W]\r\n",
        "    channels_sum+=torch.mean(img,dim=[0,2,3])\r\n",
        "    channels_squared_sum+=torch.mean(img**2,dim=[0,2,3])\r\n",
        "    num_batches+=1\r\n",
        "  \r\n",
        "  mean=channels_sum/num_batches\r\n",
        "  std=(channels_squared_sum/num_batches- mean**2)**0.5\r\n",
        "  return mean, std\r\n",
        "\r\n",
        "to_be_norm_dataset=Face_Dataset(train_root, transform=transforms.Compose([\r\n",
        "                                                             transforms.Resize((105,105)),\r\n",
        "                                                             transforms.ToTensor()\r\n",
        "                                           ]))\r\n",
        "\r\n",
        "mean, std= find_mean_std(to_be_norm_dataset, batch_s=batch_size)\r\n",
        "\r\n",
        "print(f'mean: {mean.item()}    std: {std.item()}')"
      ],
      "execution_count": null,
      "outputs": [
        {
          "output_type": "stream",
          "text": [
            "['Braille', 'Burmese_(Myanmar)', 'Greek', 'Syriac_(Estrangelo)', 'Japanese_(katakana)', 'Asomtavruli_(Georgian)', 'Gujarati', 'Japanese_(hiragana)', 'Alphabet_of_the_Magi', 'Arcadian', 'Tifinagh', 'Balinese', 'Inuktitut_(Canadian_Aboriginal_Syllabics)', 'Cyrillic', 'Latin', 'Blackfoot_(Canadian_Aboriginal_Syllabics)', 'Bengali', 'Early_Aramaic', 'Armenian', 'Anglo-Saxon_Futhorc', 'Korean', 'Futurama', 'Grantha', 'Malay_(Jawi_-_Arabic)', 'Sanskrit', 'Mkhedruli_(Georgian)', 'Tagalog', 'N_Ko', 'Hebrew', 'Ojibwe_(Canadian_Aboriginal_Syllabics)']\n",
            "Total number of samples:  19280\n",
            "mean: 0.9243061542510986    std: 0.26450762152671814\n"
          ],
          "name": "stdout"
        }
      ]
    },
    {
      "cell_type": "code",
      "metadata": {
        "colab": {
          "base_uri": "https://localhost:8080/"
        },
        "id": "_yOiFlpFCxwt",
        "outputId": "1875e9c1-0c70-46cd-f177-3dd0bdd71912"
      },
      "source": [
        "# prepare datasets(OMNIGLOT)\r\n",
        "\r\n",
        "transform=transforms.Compose([\r\n",
        "                              transforms.Resize((105,105)),\r\n",
        "                              transforms.RandomAffine(30,shear=0.2),\r\n",
        "                              transforms.ToTensor(),\r\n",
        "                              transforms.Normalize([mean.item()],[std.item()]),\r\n",
        "])\r\n",
        "# dataset=Face_Dataset(root,transform=transform)\r\n",
        "dataset_train=Face_Dataset(train_root,transform=transform)\r\n",
        "dataset_val=Face_Dataset(val_root,job='val',transform=transforms.Compose([transforms.Resize((105,105)),\r\n",
        "                                                            transforms.ToTensor()])\r\n",
        ")\r\n",
        "\r\n",
        "dataloader_train=DataLoader(dataset=dataset_train, batch_size=batch_size)\r\n",
        "dataloader_val=DataLoader(dataset=dataset_val, batch_size=batch_size)\r\n"
      ],
      "execution_count": null,
      "outputs": [
        {
          "output_type": "stream",
          "text": [
            "['Braille', 'Burmese_(Myanmar)', 'Greek', 'Syriac_(Estrangelo)', 'Japanese_(katakana)', 'Asomtavruli_(Georgian)', 'Gujarati', 'Japanese_(hiragana)', 'Alphabet_of_the_Magi', 'Arcadian', 'Tifinagh', 'Balinese', 'Inuktitut_(Canadian_Aboriginal_Syllabics)', 'Cyrillic', 'Latin', 'Blackfoot_(Canadian_Aboriginal_Syllabics)', 'Bengali', 'Early_Aramaic', 'Armenian', 'Anglo-Saxon_Futhorc', 'Korean', 'Futurama', 'Grantha', 'Malay_(Jawi_-_Arabic)', 'Sanskrit', 'Mkhedruli_(Georgian)', 'Tagalog', 'N_Ko', 'Hebrew', 'Ojibwe_(Canadian_Aboriginal_Syllabics)']\n",
            "['Avesta', 'Tibetan', 'Ge_ez', 'Tengwar', 'Sylheti', 'Atemayar_Qelisayer', 'Angelic', 'Malayalam', 'Aurek-Besh', 'Gurmukhi', 'Kannada', 'Mongolian', 'Old_Church_Slavonic_(Cyrillic)', 'Oriya', 'Syriac_(Serto)', 'ULOG', 'Atlantean', 'Keble', 'Glagolitic', 'Manipuri']\n"
          ],
          "name": "stdout"
        }
      ]
    },
    {
      "cell_type": "markdown",
      "metadata": {
        "id": "6mahba0d3DYR"
      },
      "source": [
        "# Test Dataset"
      ]
    },
    {
      "cell_type": "code",
      "metadata": {
        "id": "1J7Q9kgSGGQO"
      },
      "source": [
        "# Dataset_2\r\n",
        "class Face_Dataset_Test(Dataset):\r\n",
        "  def __init__(self,root_dir, job='train',transform=None):\r\n",
        "    super(Face_Dataset,self).__init__()\r\n",
        "    self.root_dir=root_dir\r\n",
        "    self.job=job\r\n",
        "    self.all_classes=os.listdir(os.path.join(root_dir,job))\r\n",
        "    self.num_classes=len(self.all_classes)\r\n",
        "    self.face_list, self.number_of_faces=self.get_face_list()\r\n",
        "    self.transform=transform\r\n",
        "    print(self.all_classes)\r\n",
        "    \r\n",
        "  def get_face_list(self) -> (dict, int):\r\n",
        "    f_list,n_faces={},0\r\n",
        "    for idx, person in enumerate(self.all_classes):\r\n",
        "      f_list[idx]=[]\r\n",
        "      for face in os.listdir(os.path.join(self.root_dir,self.job,person)):\r\n",
        "        f_list[idx].append(os.path.join(self.root_dir,self.job,person,face))\r\n",
        "        n_faces+=1\r\n",
        "    return f_list,n_faces\r\n",
        "\r\n",
        "  def __len__(self):\r\n",
        "    return self.number_of_faces\r\n",
        "\r\n",
        "  def __getitem__(self,idx):\r\n",
        "    is_Same=1\r\n",
        "    # Same person if even\r\n",
        "    if idx%2==0:\r\n",
        "      person_id=random.randint(0,self.num_classes-1)\r\n",
        "      path_img_1=random.choice(self.face_list[person_id])\r\n",
        "      path_img_2=random.choice(self.face_list[person_id])\r\n",
        "      \r\n",
        "    # different people \r\n",
        "    else:\r\n",
        "      is_Same=0\r\n",
        "      person_id_1=random.randint(0,self.num_classes-1)\r\n",
        "      person_id_2=random.randint(0,self.num_classes-1)\r\n",
        "      while person_id_2==person_id_1:\r\n",
        "        person_id_2=random.randint(0,self.num_classes-1)\r\n",
        "      path_img_1=random.choice(self.face_list[person_id_1])\r\n",
        "      path_img_2=random.choice(self.face_list[person_id_2])\r\n",
        "\r\n",
        "    img1=Image.open(path_img_1).convert('L')\r\n",
        "    img2=Image.open(path_img_2).convert('L')\r\n",
        "    \r\n",
        "    if self.transform:\r\n",
        "      img1=self.transform(img1)\r\n",
        "      img2=self.transform(img2)\r\n",
        "\r\n",
        "    return img1,img2,torch.from_numpy(np.array([is_Same], dtype=np.float32))\r\n"
      ],
      "execution_count": null,
      "outputs": []
    },
    {
      "cell_type": "markdown",
      "metadata": {
        "id": "EnRzbbbD3N6F"
      },
      "source": [
        "# Prepare datasets(skip this if you went with omniglot)"
      ]
    },
    {
      "cell_type": "code",
      "metadata": {
        "id": "d1wS15fX5SEm"
      },
      "source": [
        "# Faces\r\n",
        "root='/content/drive/MyDrive/dataset/faces/data'"
      ],
      "execution_count": null,
      "outputs": []
    },
    {
      "cell_type": "code",
      "metadata": {
        "colab": {
          "base_uri": "https://localhost:8080/"
        },
        "id": "OVjW6SJMEW9h",
        "outputId": "5c12a483-b209-48e8-bb33-8e3e9c50aa67"
      },
      "source": [
        "# Calculating the mean and std of the data\r\n",
        "\r\n",
        "def find_mean_std(to_be_norm_dataset, batch_s=1):\r\n",
        "  to_norm_loader=DataLoader(dataset=to_be_norm_dataset, batch_size=batch_s)\r\n",
        "  print('Total number of samples: ', len(to_be_norm_dataset))\r\n",
        "\r\n",
        "  # #run for 1 batch \r\n",
        "  # data_iter=iter(to_norm_loader)\r\n",
        "  # img,_,__=data_iter.next()\r\n",
        "  # print(img.shape)\r\n",
        "  \r\n",
        "  channels_sum, channels_squared_sum, num_batches=0, 0, 0\r\n",
        "  for img,_,__ in to_norm_loader:\r\n",
        "    # print(img.shape)#[batch,C,H,W]\r\n",
        "    channels_sum+=torch.mean(img,dim=[0,2,3])\r\n",
        "    channels_squared_sum+=torch.mean(img**2,dim=[0,2,3])\r\n",
        "    num_batches+=1\r\n",
        "  \r\n",
        "  mean=channels_sum/num_batches\r\n",
        "  std=(channels_squared_sum/num_batches- mean**2)**0.5\r\n",
        "  return mean, std\r\n",
        "\r\n",
        "to_be_norm_dataset=Face_Dataset(root, transform=transforms.Compose([\r\n",
        "                                                             transforms.Resize((105,105)),\r\n",
        "                                                             transforms.ToTensor()\r\n",
        "                                           ]))\r\n",
        "\r\n",
        "'''A 3 liner for finding mean and std on small datasets'''\r\n",
        "# to_norm_loader=DataLoader(dataset=to_be_norm_dataset, batch_size=len(to_be_norm_dataset))\r\n",
        "# op_loader=next(iter(to_norm_loader))\r\n",
        "# print(op_loader[0].mean(), op_loader[0].std())\r\n",
        "\r\n",
        "# using all the samples since the data size is really low\r\n",
        "mean, std= find_mean_std(to_be_norm_dataset, batch_s=len(to_be_norm_dataset))\r\n",
        "\r\n",
        "print(f'mean: {mean.item()}    std: {std.item()}')"
      ],
      "execution_count": null,
      "outputs": [
        {
          "output_type": "stream",
          "text": [
            "['Ojibwe_(Canadian_Aboriginal_Syllabics)', 'Anglo-Saxon_Futhorc', 'Malay_(Jawi_-_Arabic)', 'Tagalog', 'Mkhedruli_(Georgian)', 'Gujarati', 'N_Ko', 'Early_Aramaic', 'Inuktitut_(Canadian_Aboriginal_Syllabics)', 'Burmese_(Myanmar)', 'Grantha', 'Alphabet_of_the_Magi', 'Korean', 'Greek', 'Latin', 'Hebrew', 'Syriac_(Estrangelo)', 'Japanese_(katakana)', 'Arcadian', 'Futurama', 'Bengali', 'Blackfoot_(Canadian_Aboriginal_Syllabics)', 'Cyrillic', 'Braille', 'Balinese', 'Tifinagh', 'Asomtavruli_(Georgian)', 'Armenian', 'Japanese_(hiragana)', 'Sanskrit']\n",
            "Total number of samples:  964\n",
            "mean: 0.9249529838562012    std: 0.2634672224521637\n"
          ],
          "name": "stdout"
        }
      ]
    },
    {
      "cell_type": "code",
      "metadata": {
        "colab": {
          "base_uri": "https://localhost:8080/"
        },
        "id": "RdBy92KMUyd_",
        "outputId": "4f40c3d2-a3eb-48cf-ae84-cb94620f2d2a"
      },
      "source": [
        "\r\n",
        "transform=transforms.Compose([\r\n",
        "                              transforms.Resize((105,105)),\r\n",
        "                              transforms.RandomAffine(30,shear=0.2),\r\n",
        "                              transforms.ToTensor(),\r\n",
        "                              transforms.Normalize([mean.item()],[std.item()]),\r\n",
        "])\r\n",
        "dataset_train=Face_Dataset(root,transform=transform)\r\n",
        "dataset_val=Face_Dataset(root,'val',transform=transforms.Compose([\r\n",
        "                                                                  transforms.Resize((105,105)),\r\n",
        "                                                                  transforms.ToTensor()])\r\n",
        ")\r\n",
        "\r\n",
        "dataloader_train=DataLoader(dataset=dataset_train, batch_size=len(dataset_train))\r\n",
        "dataloader_val=DataLoader(dataset=dataset_val, batch_size=len(dataset_val))\r\n"
      ],
      "execution_count": null,
      "outputs": [
        {
          "output_type": "stream",
          "text": [
            "['Ojibwe_(Canadian_Aboriginal_Syllabics)', 'Anglo-Saxon_Futhorc', 'Malay_(Jawi_-_Arabic)', 'Tagalog', 'Mkhedruli_(Georgian)', 'Gujarati', 'N_Ko', 'Early_Aramaic', 'Inuktitut_(Canadian_Aboriginal_Syllabics)', 'Burmese_(Myanmar)', 'Grantha', 'Alphabet_of_the_Magi', 'Korean', 'Greek', 'Latin', 'Hebrew', 'Syriac_(Estrangelo)', 'Japanese_(katakana)', 'Arcadian', 'Futurama', 'Bengali', 'Blackfoot_(Canadian_Aboriginal_Syllabics)', 'Cyrillic', 'Braille', 'Balinese', 'Tifinagh', 'Asomtavruli_(Georgian)', 'Armenian', 'Japanese_(hiragana)', 'Sanskrit']\n",
            "['Ojibwe_(Canadian_Aboriginal_Syllabics)', 'Anglo-Saxon_Futhorc', 'Malay_(Jawi_-_Arabic)', 'Tagalog', 'Mkhedruli_(Georgian)', 'Gujarati', 'N_Ko', 'Early_Aramaic', 'Inuktitut_(Canadian_Aboriginal_Syllabics)', 'Burmese_(Myanmar)', 'Grantha', 'Alphabet_of_the_Magi', 'Korean', 'Greek', 'Latin', 'Hebrew', 'Syriac_(Estrangelo)', 'Japanese_(katakana)', 'Arcadian', 'Futurama', 'Bengali', 'Blackfoot_(Canadian_Aboriginal_Syllabics)', 'Cyrillic', 'Braille', 'Balinese', 'Tifinagh', 'Asomtavruli_(Georgian)', 'Armenian', 'Japanese_(hiragana)', 'Sanskrit']\n"
          ],
          "name": "stdout"
        }
      ]
    },
    {
      "cell_type": "markdown",
      "metadata": {
        "id": "OrDuJ8_FJKdK"
      },
      "source": [
        "# Check if the datasets are working"
      ]
    },
    {
      "cell_type": "code",
      "metadata": {
        "colab": {
          "base_uri": "https://localhost:8080/",
          "height": 305
        },
        "id": "_ot9oW_opDcW",
        "outputId": "8183d17d-2c93-4b04-9376-90d07a127cfe"
      },
      "source": [
        "# Testing train Dataset\r\n",
        "img1,img2,are_Same=dataset_train[1]\r\n",
        "\r\n",
        "print(are_Same.item())\r\n",
        "print(img1.shape,'\\n',img2.shape)\r\n",
        "\r\n",
        "# convert to PIL and multiply with std and add mean to un-normalize the images for viewing purposes only\r\n",
        "show_img1=transforms.ToPILImage()(img1.mul_(std).add_(mean))\r\n",
        "show_img2=transforms.ToPILImage()(img2.mul_(std).add_(mean))\r\n",
        "\r\n",
        "print(show_img1.size,'\\n',show_img2.size)\r\n",
        "\r\n",
        "plt.subplot(121)\r\n",
        "plt.imshow(show_img1,cmap='gray')\r\n",
        "\r\n",
        "plt.subplot(122)\r\n",
        "plt.imshow(show_img2,cmap='gray')\r\n"
      ],
      "execution_count": null,
      "outputs": [
        {
          "output_type": "stream",
          "text": [
            "0.0\n",
            "torch.Size([1, 105, 105]) \n",
            " torch.Size([1, 105, 105])\n",
            "(105, 105) \n",
            " (105, 105)\n"
          ],
          "name": "stdout"
        },
        {
          "output_type": "execute_result",
          "data": {
            "text/plain": [
              "<matplotlib.image.AxesImage at 0x7f12ba814128>"
            ]
          },
          "metadata": {
            "tags": []
          },
          "execution_count": 12
        },
        {
          "output_type": "display_data",
          "data": {
            "image/png": "[encoded data removed]",
            "text/plain": [
              "<Figure size 432x288 with 2 Axes>"
            ]
          },
          "metadata": {
            "tags": [],
            "needs_background": "light"
          }
        }
      ]
    },
    {
      "cell_type": "code",
      "metadata": {
        "colab": {
          "base_uri": "https://localhost:8080/",
          "height": 354
        },
        "id": "bns9opIniZfw",
        "outputId": "37836679-ff58-47e7-99d2-619613b933c0"
      },
      "source": [
        "# Testing validation Dataset\r\n",
        "img1,img2,img3,img4=dataset_val[0]\r\n",
        "\r\n",
        "print(img1.shape,'\\n',img2.shape)\r\n",
        "\r\n",
        "# convert to PIL\r\n",
        "show_img1=transforms.ToPILImage()(img1)\r\n",
        "show_img2=transforms.ToPILImage()(img2)\r\n",
        "show_img3=transforms.ToPILImage()(img3)\r\n",
        "show_img4=transforms.ToPILImage()(img4)\r\n",
        "\r\n",
        "print(show_img1.size,'\\n',show_img2.size)\r\n",
        "\r\n",
        "plt.subplot(221)\r\n",
        "plt.imshow(show_img1,cmap='gray')\r\n",
        "\r\n",
        "plt.subplot(222)\r\n",
        "plt.imshow(show_img2,cmap='gray')\r\n",
        "\r\n",
        "plt.subplot(223)\r\n",
        "plt.imshow(show_img3,cmap='gray')\r\n",
        "\r\n",
        "plt.subplot(224)\r\n",
        "plt.imshow(show_img4,cmap='gray')\r\n"
      ],
      "execution_count": null,
      "outputs": [
        {
          "output_type": "stream",
          "text": [
            "torch.Size([1, 105, 105]) \n",
            " torch.Size([1, 105, 105])\n",
            "(105, 105) \n",
            " (105, 105)\n"
          ],
          "name": "stdout"
        },
        {
          "output_type": "execute_result",
          "data": {
            "text/plain": [
              "<matplotlib.image.AxesImage at 0x7f12ba222550>"
            ]
          },
          "metadata": {
            "tags": []
          },
          "execution_count": 13
        },
        {
          "output_type": "display_data",
          "data": {
            "image/png": "[encoded data removed]",
            "text/plain": [
              "<Figure size 432x288 with 4 Axes>"
            ]
          },
          "metadata": {
            "tags": [],
            "needs_background": "light"
          }
        }
      ]
    },
    {
      "cell_type": "markdown",
      "metadata": {
        "id": "H2Q8ElFJTtTj"
      },
      "source": [
        "# Train"
      ]
    },
    {
      "cell_type": "code",
      "metadata": {
        "id": "R0kTpvF_UvT3",
        "colab": {
          "base_uri": "https://localhost:8080/"
        },
        "outputId": "969098c8-f55d-49bb-ffdd-eadb6fe59de0"
      },
      "source": [
        "device = torch.device(\"cuda\" if torch.cuda.is_available() else \"cpu\")\r\n",
        "\r\n",
        "model=Siamese_Net().to(device)\r\n",
        "\r\n",
        "loss_function=nn.BCEWithLogitsLoss()\r\n",
        "optimizer=optim.Adam(model.parameters(),lr=3e-4,weight_decay=6e-5)\r\n",
        "# lr_scheduler=optim.lr_scheduler.ReduceLROnPlateau(optimizer, patience=4, verbose=True)\r\n",
        "# lr_scheduler=optim.lr_scheduler.ExponentialLR(optimizer, gamma=0.99, verbose=True)\r\n",
        "\r\n",
        "epochs=500"
      ],
      "execution_count": null,
      "outputs": [
        {
          "output_type": "stream",
          "text": [
            "Adjusting learning rate of group 0 to 3.0000e-04.\n"
          ],
          "name": "stdout"
        }
      ]
    },
    {
      "cell_type": "code",
      "metadata": {
        "colab": {
          "base_uri": "https://localhost:8080/"
        },
        "id": "LkPGycT_ZFXM",
        "outputId": "72a448cb-f26c-4e7a-d0f4-c4e97a52e8b7"
      },
      "source": [
        "# Train Network\r\n",
        "\r\n",
        "t_loss,v_loss,accuracy=[],[],[]\r\n",
        "val_every=5\r\n",
        "save_every=50\r\n",
        "\r\n",
        "for epoch in range(epochs):\r\n",
        "  t_loss_batch,v_loss_batch=[],[]\r\n",
        "  \r\n",
        "  # training\r\n",
        "  model.train()\r\n",
        "  for batch_idx, (img1, img2, isSame) in enumerate(dataloader_train):\r\n",
        "    # Get data to cuda if possible\r\n",
        "    img1, img2, isSame= img1.to(device),img2.to(device),isSame.to(device)\r\n",
        "\r\n",
        "    # forward\r\n",
        "    scores = model(img1, img2)\r\n",
        "    loss = loss_function(scores, isSame)\r\n",
        "    \r\n",
        "    # backward\r\n",
        "    optimizer.zero_grad()\r\n",
        "    loss.backward()\r\n",
        "\r\n",
        "    # update weights\r\n",
        "    optimizer.step()\r\n",
        "\r\n",
        "    t_loss_batch.append(loss.item())\r\n",
        "  \r\n",
        "  mean_loss=sum(t_loss_batch)/len(t_loss_batch)\r\n",
        "  t_loss.append(mean_loss)\r\n",
        "  \r\n",
        "  # for ExponentialLR \r\n",
        "  # lr_scheduler.step()\r\n",
        "  \r\n",
        "  # forReduceLROnPlateau\r\n",
        "  # lr_scheduler.step(mean_loss)\r\n",
        "  \r\n",
        "  if epoch%val_every==0:\r\n",
        "    # validating\r\n",
        "    model.eval()\r\n",
        "    with torch.no_grad():\r\n",
        "      correct,total,batch_accuracy=0,0,[]\r\n",
        "      for batch_idx,(img1, img2, img3, img4) in enumerate(dataloader_val):\r\n",
        "        img1, img2, img3, img4=img1.to(device),img2.to(device),img3.to(device),img4.to(device)\r\n",
        "\r\n",
        "        score1 = torch.sigmoid(model(img1,img2))\r\n",
        "        score2 = torch.sigmoid(model(img1,img3))\r\n",
        "        score3 = torch.sigmoid(model(img1,img4))\r\n",
        "        \r\n",
        "        for higher_img3,higher_img4 in zip(score1>score2, score1>score3):\r\n",
        "          if higher_img3 and higher_img4:\r\n",
        "            correct+=1\r\n",
        "            \r\n",
        "        total+=img1.shape[0]\r\n",
        "        batch_accuracy.append(correct/total)\r\n",
        "\r\n",
        "      # finding the accuracy of that epoch\r\n",
        "      accuracy.append(sum(batch_accuracy)/len(batch_accuracy))\r\n",
        "    print(f'Epoch No.:{epoch} batch_idx:{batch_idx} training loss:{t_loss[-1]}  validation accuracy:{accuracy[-1]*100}%')\r\n",
        "  \r\n",
        "  if epoch%save_every==0:\r\n",
        "    torch.save({\r\n",
        "            'epoch': epoch,\r\n",
        "            'model_state_dict': model.state_dict(),\r\n",
        "            'optimizer_state_dict': optimizer.state_dict(),\r\n",
        "            'loss': t_loss[-1],\r\n",
        "            }, f'/content/drive/MyDrive/dataset/Omni_ckp_new/checkp{epoch}.pt')\r\n",
        "    "
      ],
      "execution_count": null,
      "outputs": [
        {
          "output_type": "stream",
          "text": [
            "Epoch No.:0 batch_idx:823 training loss:0.5477010015753789  validation accuracy:29.67957328151693%\n",
            "Epoch No.:5 batch_idx:823 training loss:0.2241656012972237  validation accuracy:40.729507404252445%\n",
            "Epoch No.:10 batch_idx:823 training loss:0.15604818853785388  validation accuracy:29.684282018381975%\n",
            "Epoch No.:15 batch_idx:823 training loss:0.12838045806581486  validation accuracy:51.02848548351236%\n",
            "Epoch No.:20 batch_idx:823 training loss:0.11008068076373538  validation accuracy:41.006557404473824%\n",
            "Epoch No.:25 batch_idx:823 training loss:0.10606003598777647  validation accuracy:53.203810356671866%\n",
            "Epoch No.:30 batch_idx:823 training loss:0.09552112508592238  validation accuracy:41.40692706964526%\n",
            "Epoch No.:35 batch_idx:823 training loss:0.08768440154690249  validation accuracy:51.95117622194392%\n",
            "Epoch No.:40 batch_idx:823 training loss:0.08332810018547807  validation accuracy:46.43484204491094%\n",
            "Epoch No.:45 batch_idx:823 training loss:0.07931050384374667  validation accuracy:29.449293458255276%\n",
            "Epoch No.:50 batch_idx:823 training loss:0.07650133378096544  validation accuracy:25.84077572808067%\n",
            "Epoch No.:55 batch_idx:823 training loss:0.0739901963971107  validation accuracy:37.894150786647224%\n",
            "Epoch No.:60 batch_idx:823 training loss:0.06926258201189185  validation accuracy:41.86716734514692%\n",
            "Epoch No.:65 batch_idx:823 training loss:0.06641981306561187  validation accuracy:28.967488159306054%\n",
            "Epoch No.:70 batch_idx:823 training loss:0.06284231974857307  validation accuracy:30.78591406909712%\n",
            "Epoch No.:75 batch_idx:823 training loss:0.06656013766392539  validation accuracy:42.57259863886662%\n",
            "Epoch No.:80 batch_idx:823 training loss:0.06054409867388301  validation accuracy:31.30728454638833%\n",
            "Epoch No.:85 batch_idx:823 training loss:0.06362125265510575  validation accuracy:28.6182229709767%\n",
            "Epoch No.:90 batch_idx:823 training loss:0.06032533332516142  validation accuracy:25.641471968603863%\n",
            "Epoch No.:95 batch_idx:823 training loss:0.05956693910109652  validation accuracy:32.421117508750704%\n",
            "Epoch No.:100 batch_idx:823 training loss:0.056466721052388924  validation accuracy:32.86679640435396%\n",
            "Epoch No.:105 batch_idx:823 training loss:0.05679138583774559  validation accuracy:30.455233513047926%\n",
            "Epoch No.:110 batch_idx:823 training loss:0.052797105782993785  validation accuracy:36.20833151205255%\n",
            "Epoch No.:115 batch_idx:823 training loss:0.05541191892601797  validation accuracy:39.961466057955555%\n",
            "Epoch No.:120 batch_idx:823 training loss:0.0555400019308699  validation accuracy:43.25972080308468%\n",
            "Epoch No.:125 batch_idx:823 training loss:0.053811239299733436  validation accuracy:51.49130439143026%\n",
            "Epoch No.:130 batch_idx:823 training loss:0.05339057791922087  validation accuracy:37.27526806469023%\n",
            "Epoch No.:135 batch_idx:823 training loss:0.05031684993117028  validation accuracy:23.916537067517055%\n",
            "Epoch No.:140 batch_idx:823 training loss:0.05053687434173981  validation accuracy:33.02544818565467%\n",
            "Epoch No.:145 batch_idx:823 training loss:0.05018035902697748  validation accuracy:38.80036444608117%\n",
            "Epoch No.:150 batch_idx:823 training loss:0.0512242799732038  validation accuracy:20.418133387906366%\n",
            "Epoch No.:155 batch_idx:823 training loss:0.05273336738128702  validation accuracy:36.078797226451805%\n",
            "Epoch No.:160 batch_idx:823 training loss:0.04775058694176098  validation accuracy:24.644045807634328%\n",
            "Epoch No.:165 batch_idx:823 training loss:0.05071075520998918  validation accuracy:21.061431676810727%\n",
            "Epoch No.:170 batch_idx:823 training loss:0.049420782220955646  validation accuracy:29.445518307243677%\n",
            "Epoch No.:175 batch_idx:823 training loss:0.0446517144841397  validation accuracy:29.832543132748718%\n",
            "Epoch No.:180 batch_idx:823 training loss:0.047530646662660624  validation accuracy:24.325783108435854%\n",
            "Epoch No.:185 batch_idx:823 training loss:0.050273473059499627  validation accuracy:34.01509817363975%\n",
            "Epoch No.:190 batch_idx:823 training loss:0.04884606107655928  validation accuracy:29.465778444360186%\n",
            "Epoch No.:195 batch_idx:823 training loss:0.046195741344573694  validation accuracy:50.87905082669772%\n",
            "Epoch No.:200 batch_idx:823 training loss:0.048884662556755686  validation accuracy:32.66089447545729%\n",
            "Epoch No.:205 batch_idx:823 training loss:0.045095097888802095  validation accuracy:44.220463218409414%\n",
            "Epoch No.:210 batch_idx:823 training loss:0.044529325815779446  validation accuracy:29.739486340349693%\n",
            "Epoch No.:215 batch_idx:823 training loss:0.041508298744379904  validation accuracy:36.371072727914836%\n",
            "Epoch No.:220 batch_idx:823 training loss:0.051586882343140905  validation accuracy:15.237461333573105%\n",
            "Epoch No.:225 batch_idx:823 training loss:0.04459089998965426  validation accuracy:47.09618794647873%\n",
            "Epoch No.:230 batch_idx:823 training loss:0.04615585561088167  validation accuracy:34.4793097986036%\n",
            "Epoch No.:235 batch_idx:823 training loss:0.04650375027648131  validation accuracy:42.01513593308553%\n",
            "Epoch No.:240 batch_idx:823 training loss:0.04601681344090339  validation accuracy:55.53230987092882%\n",
            "Epoch No.:245 batch_idx:823 training loss:0.0429188165166396  validation accuracy:59.916685533841516%\n",
            "Epoch No.:250 batch_idx:823 training loss:0.041985447342696894  validation accuracy:31.394742059147962%\n",
            "Epoch No.:255 batch_idx:823 training loss:0.045859215256788946  validation accuracy:34.978211768817374%\n",
            "Epoch No.:260 batch_idx:823 training loss:0.03994454741207458  validation accuracy:42.02509474367576%\n",
            "Epoch No.:265 batch_idx:823 training loss:0.04475033126063297  validation accuracy:29.81696327289963%\n",
            "Epoch No.:270 batch_idx:823 training loss:0.04375187554193807  validation accuracy:24.365503740190288%\n",
            "Epoch No.:275 batch_idx:823 training loss:0.04484885170934065  validation accuracy:25.281284946036852%\n",
            "Epoch No.:280 batch_idx:823 training loss:0.0445784302194568  validation accuracy:47.18071554525199%\n",
            "Epoch No.:285 batch_idx:823 training loss:0.04155451463679377  validation accuracy:40.844094110436714%\n",
            "Epoch No.:290 batch_idx:823 training loss:0.043711043400854195  validation accuracy:45.39143774988364%\n",
            "Epoch No.:295 batch_idx:823 training loss:0.04380198504623119  validation accuracy:40.08969878697496%\n",
            "Epoch No.:300 batch_idx:823 training loss:0.0427587658513233  validation accuracy:25.484467648647584%\n",
            "Epoch No.:305 batch_idx:823 training loss:0.04211935601747861  validation accuracy:39.60514376050921%\n",
            "Epoch No.:310 batch_idx:823 training loss:0.035721415004749006  validation accuracy:28.388977724975284%\n",
            "Epoch No.:315 batch_idx:823 training loss:0.041366227603318456  validation accuracy:38.55800608229066%\n",
            "Epoch No.:320 batch_idx:823 training loss:0.04138183836401073  validation accuracy:41.131024916499655%\n",
            "Epoch No.:325 batch_idx:823 training loss:0.04467500586881924  validation accuracy:51.3952421126764%\n",
            "Epoch No.:330 batch_idx:823 training loss:0.04393474689565978  validation accuracy:47.80408816376649%\n",
            "Epoch No.:335 batch_idx:823 training loss:0.04303953827086342  validation accuracy:63.68140716029569%\n",
            "Epoch No.:340 batch_idx:823 training loss:0.04170611615846304  validation accuracy:40.270514757359884%\n",
            "Epoch No.:345 batch_idx:823 training loss:0.03786140039468501  validation accuracy:38.020772479318275%\n",
            "Epoch No.:350 batch_idx:823 training loss:0.037708717516548085  validation accuracy:46.11014651341814%\n",
            "Epoch No.:355 batch_idx:823 training loss:0.041231403383861116  validation accuracy:34.90090224938897%\n",
            "Epoch No.:360 batch_idx:823 training loss:0.03818671938043505  validation accuracy:36.16444053539746%\n",
            "Epoch No.:365 batch_idx:823 training loss:0.03782633123494283  validation accuracy:53.39781494062278%\n",
            "Epoch No.:370 batch_idx:823 training loss:0.04276432435929629  validation accuracy:54.36029648982274%\n",
            "Epoch No.:375 batch_idx:823 training loss:0.041496941210949385  validation accuracy:54.635714180415484%\n",
            "Epoch No.:380 batch_idx:823 training loss:0.04254869037985037  validation accuracy:61.17121896385014%\n",
            "Epoch No.:385 batch_idx:823 training loss:0.04025751451028924  validation accuracy:46.257224832012476%\n",
            "Epoch No.:390 batch_idx:823 training loss:0.0412751545946991  validation accuracy:40.166626694281824%\n",
            "Epoch No.:395 batch_idx:823 training loss:0.04273337211500451  validation accuracy:42.7431933047501%\n",
            "Epoch No.:400 batch_idx:823 training loss:0.03963233216142058  validation accuracy:51.096738582101075%\n",
            "Epoch No.:405 batch_idx:823 training loss:0.042075539385963666  validation accuracy:40.88410379490552%\n",
            "Epoch No.:410 batch_idx:823 training loss:0.04321774731175704  validation accuracy:39.00503337841108%\n",
            "Epoch No.:415 batch_idx:823 training loss:0.04045318460915068  validation accuracy:59.6065218758132%\n",
            "Epoch No.:420 batch_idx:823 training loss:0.040596916333287256  validation accuracy:38.71508573708135%\n",
            "Epoch No.:425 batch_idx:823 training loss:0.036854949462202406  validation accuracy:42.779540522864714%\n",
            "Epoch No.:430 batch_idx:823 training loss:0.038097524899879234  validation accuracy:50.394438032870084%\n",
            "Epoch No.:435 batch_idx:823 training loss:0.04182321417036262  validation accuracy:20.460170543226322%\n",
            "Epoch No.:440 batch_idx:823 training loss:0.042235521146645034  validation accuracy:53.64098131815096%\n",
            "Epoch No.:445 batch_idx:823 training loss:0.03824483524252954  validation accuracy:35.5736387644551%\n",
            "Epoch No.:450 batch_idx:823 training loss:0.03770928816247685  validation accuracy:41.68516878777729%\n",
            "Epoch No.:455 batch_idx:823 training loss:0.039477216943188405  validation accuracy:43.24070709210833%\n",
            "Epoch No.:460 batch_idx:823 training loss:0.036387148309070076  validation accuracy:52.77275310576456%\n",
            "Epoch No.:465 batch_idx:823 training loss:0.03587765826909374  validation accuracy:40.533074652443254%\n",
            "Epoch No.:470 batch_idx:823 training loss:0.0404414757542772  validation accuracy:38.56804802466715%\n",
            "Epoch No.:475 batch_idx:823 training loss:0.04310156509364255  validation accuracy:46.47371448892276%\n",
            "Epoch No.:480 batch_idx:823 training loss:0.04265223393686255  validation accuracy:53.00514004700757%\n",
            "Epoch No.:485 batch_idx:823 training loss:0.037507527528612784  validation accuracy:37.12076502453527%\n",
            "Epoch No.:490 batch_idx:823 training loss:0.0387200841688864  validation accuracy:53.50468690044837%\n",
            "Epoch No.:495 batch_idx:823 training loss:0.041075680747529666  validation accuracy:57.79323061207901%\n"
          ],
          "name": "stdout"
        }
      ]
    },
    {
      "cell_type": "code",
      "metadata": {
        "id": "MhLs0V3TWG4z",
        "colab": {
          "base_uri": "https://localhost:8080/",
          "height": 325
        },
        "outputId": "d0a6c4a9-9e3f-4d91-fd82-c5a64fbf0f1d"
      },
      "source": [
        "print(f'Mean Loss: {sum(t_loss)/len(t_loss):.3f}')\r\n",
        "plt.style.use('seaborn-whitegrid')\r\n",
        "\r\n",
        "fig = plt.figure()\r\n",
        "ax = plt.axes()\r\n",
        "ax.plot(t_loss,label='Training Loss')\r\n",
        "# ax.plot(v_loss,label='Validation Loss')\r\n",
        "ax.legend()\r\n",
        "ax.set_title('Training loss')\r\n",
        "ax.set_xlabel('Epochs')\r\n",
        "ax.set_ylabel('Loss')"
      ],
      "execution_count": null,
      "outputs": [
        {
          "output_type": "stream",
          "text": [
            "Mean Loss: 0.055\n"
          ],
          "name": "stdout"
        },
        {
          "output_type": "execute_result",
          "data": {
            "text/plain": [
              "Text(0, 0.5, 'Loss')"
            ]
          },
          "metadata": {
            "tags": []
          },
          "execution_count": 17
        },
        {
          "output_type": "display_data",
          "data": {
            "image/png": "[encoded data removed]",
            "text/plain": [
              "<Figure size 432x288 with 1 Axes>"
            ]
          },
          "metadata": {
            "tags": []
          }
        }
      ]
    },
    {
      "cell_type": "code",
      "metadata": {
        "id": "lYi1EigLIuAk",
        "colab": {
          "base_uri": "https://localhost:8080/",
          "height": 342
        },
        "outputId": "114caf46-cb6c-4807-f981-85fef76aa425"
      },
      "source": [
        "print(f'Mean Accuracy: {sum(accuracy)/len(accuracy)*100:.3f}%')\r\n",
        "print(max(accuracy))\r\n",
        "plt.style.use('seaborn-whitegrid')\r\n",
        "fig = plt.figure()\r\n",
        "ax = plt.axes()\r\n",
        "ax.plot(accuracy,label='Validation accuracy')\r\n",
        "# ax.plot(v_loss,label='Validation Loss')\r\n",
        "ax.legend()\r\n",
        "ax.set_title('Validation Accuracy')\r\n",
        "ax.set_xlabel('Epochs')\r\n",
        "ax.set_ylabel('Accuracy')"
      ],
      "execution_count": null,
      "outputs": [
        {
          "output_type": "stream",
          "text": [
            "Mean Accuracy: 39.477%\n",
            "0.6368140716029569\n"
          ],
          "name": "stdout"
        },
        {
          "output_type": "execute_result",
          "data": {
            "text/plain": [
              "Text(0, 0.5, 'Accuracy')"
            ]
          },
          "metadata": {
            "tags": []
          },
          "execution_count": 18
        },
        {
          "output_type": "display_data",
          "data": {
            "image/png": "[encoded data removed]",
            "text/plain": [
              "<Figure size 432x288 with 1 Axes>"
            ]
          },
          "metadata": {
            "tags": []
          }
        }
      ]
    },
    {
      "cell_type": "code",
      "metadata": {
        "colab": {
          "base_uri": "https://localhost:8080/"
        },
        "id": "hmpaCmVHGct2",
        "outputId": "70bebdc9-bb9d-4992-84e6-d1026636db6e"
      },
      "source": [
        "# training accuracy for Omniglot\r\n",
        "\r\n",
        "dataset_train_acc=Face_Dataset(train_root,job='val',transform=transforms.Compose([transforms.Resize((105,105)),\r\n",
        "                                                            transforms.ToTensor()])\r\n",
        ")\r\n",
        "\r\n",
        "dataloader_train_acc=DataLoader(dataset=dataset_train_acc, batch_size=batch_size)\r\n",
        "\r\n",
        "# finding accuracy\r\n",
        "model.eval()\r\n",
        "with torch.no_grad():\r\n",
        "  correct,total,batch_accuracy=0,0,[]\r\n",
        "  for batch_idx,(img1, img2, img3, img4) in enumerate(dataloader_train_acc):\r\n",
        "    img1, img2, img3, img4=img1.to(device),img2.to(device),img3.to(device),img4.to(device)\r\n",
        "\r\n",
        "    score1 = torch.sigmoid(model(img1,img2))\r\n",
        "    score2 = torch.sigmoid(model(img1,img3))\r\n",
        "    score3 = torch.sigmoid(model(img1,img4))\r\n",
        "    \r\n",
        "    for higher_img3,higher_img4 in zip(score1>score2, score1>score3):\r\n",
        "      if higher_img3 and higher_img4:\r\n",
        "        correct+=1\r\n",
        "        \r\n",
        "    total+=img1.shape[0]\r\n",
        "    batch_accuracy.append(correct/total)\r\n",
        "  print(f'Training accuracy: {sum(batch_accuracy)/len(batch_accuracy)*100:.3f}%')"
      ],
      "execution_count": null,
      "outputs": [
        {
          "output_type": "stream",
          "text": [
            "['Braille', 'Burmese_(Myanmar)', 'Greek', 'Syriac_(Estrangelo)', 'Japanese_(katakana)', 'Asomtavruli_(Georgian)', 'Gujarati', 'Japanese_(hiragana)', 'Alphabet_of_the_Magi', 'Arcadian', 'Tifinagh', 'Balinese', 'Inuktitut_(Canadian_Aboriginal_Syllabics)', 'Cyrillic', 'Latin', 'Blackfoot_(Canadian_Aboriginal_Syllabics)', 'Bengali', 'Early_Aramaic', 'Armenian', 'Anglo-Saxon_Futhorc', 'Korean', 'Futurama', 'Grantha', 'Malay_(Jawi_-_Arabic)', 'Sanskrit', 'Mkhedruli_(Georgian)', 'Tagalog', 'N_Ko', 'Hebrew', 'Ojibwe_(Canadian_Aboriginal_Syllabics)']\n",
            "Training accuracy: 51.287%\n"
          ],
          "name": "stdout"
        }
      ]
    },
    {
      "cell_type": "markdown",
      "metadata": {
        "id": "BueTWIhYK2B5"
      },
      "source": [
        "# **ROUGH**"
      ]
    },
    {
      "cell_type": "code",
      "metadata": {
        "colab": {
          "base_uri": "https://localhost:8080/"
        },
        "id": "nJXZ9A0s5e9Q",
        "outputId": "9491ee49-6a95-4fb6-89cc-442090cbb580"
      },
      "source": [
        "path1='/content/drive/MyDrive/P11/faces/val/ben_afflek/httpabsolumentgratuitfreefrimagesbenaffleckjpg.jpg'\r\n",
        "path2='/content/drive/MyDrive/P11/faces/val/elton_john/httpcdncdnjustjaredcomwpcontentuploadsheadlineseltonjohnemmysperformancewatchnowjpg.jpg'\r\n",
        "\r\n",
        "im1,im2=Image.open(path1).convert('L'),Image.open(path2).convert('L')\r\n",
        "\r\n",
        "tra=transforms.Compose([\r\n",
        "                        transforms.Resize((105,105)),\r\n",
        "                        transforms.ToTensor(),\r\n",
        "])\r\n",
        "\r\n",
        "im1,im2= torch.unsqueeze(tra(im1),0).to(device), torch.unsqueeze(tra(im2),0).to(device)\r\n",
        "\r\n",
        "op=torch.sigmoid(model(im1,im2))\r\n",
        "\r\n",
        "print(op)"
      ],
      "execution_count": null,
      "outputs": [
        {
          "output_type": "stream",
          "text": [
            "tensor([[0.9513]], device='cuda:0', grad_fn=<SigmoidBackward>)\n"
          ],
          "name": "stdout"
        }
      ]
    },
    {
      "cell_type": "code",
      "metadata": {
        "colab": {
          "base_uri": "https://localhost:8080/",
          "height": 308
        },
        "id": "kmimC4y7CszS",
        "outputId": "a0a56fd5-ec07-4739-f78c-e3a480b22e75"
      },
      "source": [
        "plt.style.use('seaborn-whitegrid')\r\n",
        "\r\n",
        "fig,(ax1,ax2)=plt.subplots(nrows=2,ncols=1)\r\n",
        "\r\n",
        "ax1.plot(t_loss,label='Training Loss')\r\n",
        "ax1.plot(v_loss,label='Validation Loss')\r\n",
        "ax1.legend()\r\n",
        "ax1.set_title('Training loss Vs Validation loss')\r\n",
        "ax1.set_xlabel('Epochs')\r\n",
        "ax1.set_ylabel('Loss')\r\n",
        "\r\n",
        "# ax2 = plt.axes()\r\n",
        "ax2.plot(accuracy,label='Validation Accuracy')\r\n",
        "# ax2.plot(v_loss,label='Validation Loss')\r\n",
        "ax2.legend()\r\n",
        "ax2.set_title('Accuracy on validation set')\r\n",
        "ax2.set_xlabel('Epochs')\r\n",
        "ax2.set_ylabel('Accuracy')\r\n"
      ],
      "execution_count": null,
      "outputs": [
        {
          "output_type": "execute_result",
          "data": {
            "text/plain": [
              "Text(0, 0.5, 'Accuracy')"
            ]
          },
          "metadata": {
            "tags": []
          },
          "execution_count": 39
        },
        {
          "output_type": "display_data",
          "data": {
            "image/png": "[encoded data removed]",
            "text/plain": [
              "<Figure size 432x288 with 2 Axes>"
            ]
          },
          "metadata": {
            "tags": []
          }
        }
      ]
    },
    {
      "cell_type": "code",
      "metadata": {
        "colab": {
          "base_uri": "https://localhost:8080/"
        },
        "id": "8Eg8qL_0wJLR",
        "outputId": "fee91f07-267b-42d3-d803-ceaccf43d1e6"
      },
      "source": [
        "model.eval()\r\n",
        "with torch.no_grad():\r\n",
        "  for batch_idx, (img1, img2, isSame) in enumerate(dataloader_val):\r\n",
        "    img1, img2, isSame= img1.to(device),img2.to(device),isSame.to(device)\r\n",
        "    print(img1.shape)\r\n",
        "    scores = torch.sigmoid(model(img1, img2))\r\n",
        "    print(torch.max(scores).item())\r\n",
        "    for i,label in zip(scores,isSame):\r\n",
        "      print(i,' ',label,' ', i==label)\r\n",
        "    print(scores==isSame)\r\n",
        "    # print(scores,isSame)"
      ],
      "execution_count": null,
      "outputs": [
        {
          "output_type": "stream",
          "text": [
            "torch.Size([25, 1, 105, 105])\n",
            "0.6272413730621338\n",
            "tensor([0.6260])   tensor([1.])   tensor([False])\n",
            "tensor([0.6261])   tensor([0.])   tensor([False])\n",
            "tensor([0.6267])   tensor([1.])   tensor([False])\n",
            "tensor([0.6267])   tensor([0.])   tensor([False])\n",
            "tensor([0.6261])   tensor([1.])   tensor([False])\n",
            "tensor([0.6265])   tensor([0.])   tensor([False])\n",
            "tensor([0.6261])   tensor([1.])   tensor([False])\n",
            "tensor([0.6264])   tensor([0.])   tensor([False])\n",
            "tensor([0.6261])   tensor([1.])   tensor([False])\n",
            "tensor([0.6263])   tensor([0.])   tensor([False])\n",
            "tensor([0.6260])   tensor([1.])   tensor([False])\n",
            "tensor([0.6261])   tensor([0.])   tensor([False])\n",
            "tensor([0.6257])   tensor([1.])   tensor([False])\n",
            "tensor([0.6266])   tensor([0.])   tensor([False])\n",
            "tensor([0.6262])   tensor([1.])   tensor([False])\n",
            "tensor([0.6261])   tensor([0.])   tensor([False])\n",
            "tensor([0.6265])   tensor([1.])   tensor([False])\n",
            "tensor([0.6260])   tensor([0.])   tensor([False])\n",
            "tensor([0.6260])   tensor([1.])   tensor([False])\n",
            "tensor([0.6272])   tensor([0.])   tensor([False])\n",
            "tensor([0.6260])   tensor([1.])   tensor([False])\n",
            "tensor([0.6269])   tensor([0.])   tensor([False])\n",
            "tensor([0.6267])   tensor([1.])   tensor([False])\n",
            "tensor([0.6263])   tensor([0.])   tensor([False])\n",
            "tensor([0.6257])   tensor([1.])   tensor([False])\n",
            "tensor([[False],\n",
            "        [False],\n",
            "        [False],\n",
            "        [False],\n",
            "        [False],\n",
            "        [False],\n",
            "        [False],\n",
            "        [False],\n",
            "        [False],\n",
            "        [False],\n",
            "        [False],\n",
            "        [False],\n",
            "        [False],\n",
            "        [False],\n",
            "        [False],\n",
            "        [False],\n",
            "        [False],\n",
            "        [False],\n",
            "        [False],\n",
            "        [False],\n",
            "        [False],\n",
            "        [False],\n",
            "        [False],\n",
            "        [False],\n",
            "        [False]])\n"
          ],
          "name": "stdout"
        }
      ]
    },
    {
      "cell_type": "code",
      "metadata": {
        "colab": {
          "base_uri": "https://localhost:8080/"
        },
        "id": "OWVxcb7eocb-",
        "outputId": "c94b5203-4a92-4296-9233-29b9258bcbfa"
      },
      "source": [
        "with torch.no_grad():\r\n",
        "  correct=0\r\n",
        "  total=0\r\n",
        "  for batch_idx,(img1, img2, img3, img4) in enumerate(dataloader_val):\r\n",
        "\r\n",
        "    img1, img2, img3, img4=img1.to(device),img2.to(device),img3.to(device),img4.to(device)\r\n",
        "\r\n",
        "    score1 = torch.sigmoid(model(img1,img2))\r\n",
        "    score2 = torch.sigmoid(model(img1,img3))\r\n",
        "    score3 = torch.sigmoid(model(img1,img4))\r\n",
        "\r\n",
        "    # for s1,s2,s3 in zip(score1,score2,score3):\r\n",
        "    #   print(f'{s1} {s2} {s3} {s1>s2} {s1>s3}')\r\n",
        "    \r\n",
        "    for higher_img3,higher_img4 in zip(score1>score2, score1>score3):\r\n",
        "      if higher_img3 and higher_img4:\r\n",
        "        correct+=1\r\n",
        "\r\n",
        "    # print(score1>score2, score1>score3)\r\n",
        "    # scores=[]\r\n",
        "    # max=torch.sigmoid(model(img1,img2))\r\n",
        "    # for i in [img2,img3,img4]:\r\n",
        "      # score = torch.sigmoid(model(img1,i))\r\n",
        "      # print(score)\r\n",
        "      # scores.append(score)\r\n",
        "\r\n",
        "    # validation accuracy\r\n",
        "    total+=img1.shape[0]\r\n",
        "    '''THIS'''\r\n",
        "    # for Same in torch.sigmoid(scores)==isSame:\r\n",
        "    #   if Same:\r\n",
        "    #     correct+=1\r\n",
        "    '''OR THIS'''\r\n",
        "    # scores=torch.from_numpy(np.array([scores], dtype=np.float32))\r\n",
        "    # print(scores)\r\n",
        "    # pred=torch.argmax(scores)\r\n",
        "    # if pred==0:\r\n",
        "      # correct+=1\r\n",
        "  print(f'correct {correct} of {total}')\r\n",
        "          # batch_accuracy.append(correct/total)\r\n"
      ],
      "execution_count": null,
      "outputs": [
        {
          "output_type": "stream",
          "text": [
            "correct 6 of 25\n"
          ],
          "name": "stdout"
        }
      ]
    }
  ]
}